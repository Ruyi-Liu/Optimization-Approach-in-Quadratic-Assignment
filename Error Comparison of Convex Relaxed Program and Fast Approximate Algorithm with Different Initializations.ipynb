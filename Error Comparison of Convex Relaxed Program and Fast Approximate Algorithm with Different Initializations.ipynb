{
 "cells": [
  {
   "cell_type": "code",
   "execution_count": 1,
   "metadata": {},
   "outputs": [],
   "source": [
    "import numpy as np\n",
    "import networkx as nx\n",
    "import matplotlib.pyplot as plt\n",
    "import random\n",
    "import cvxpy as cp\n",
    "from numpy import linalg as LA\n",
    "import pprint\n",
    "from lap import lapjv\n",
    "import copy\n",
    "import sys\n",
    "import datetime\n",
    "from tqdm import tqdm_notebook\n",
    "\n",
    "ro = np.linspace(0,1,20)\n",
    "\n",
    "n= 50\n",
    "\n",
    "k = 10\n",
    "\n",
    "a = 0.3\n",
    "\n",
    "num_loop = 1000\n"
   ]
  },
  {
   "cell_type": "code",
   "execution_count": 2,
   "metadata": {},
   "outputs": [],
   "source": [
    "# Construct K\n",
    "def K_Bernoulli(n,a):\n",
    "    np.random.seed(3)\n",
    "    K=np.identity(n)\n",
    "    P=np.ones([n,n]) \n",
    "    K = P-K\n",
    "    #print(K)\n",
    "    for i in range(n):\n",
    "        for j in range(i+1,n):\n",
    "            K[i][j] = round(random.uniform(a,1-a),2)\n",
    "            #K[i][j] = random.uniform(alpha,1-alpha)\n",
    "            K[j][i]=K[i][j]        \n",
    "    return K\n",
    "     \n",
    "\n",
    "# Generate A\n",
    "def A_adj(K):\n",
    "    n = len(K)\n",
    "    B=np.identity(len(K))\n",
    "    P=np.ones([n,n]) \n",
    "    #print(P)\n",
    "    B= P-B\n",
    "    #print(B)\n",
    "    for i in range(len(B)):\n",
    "        for j in range(i+1,len(B)):\n",
    "            B[i][j] =random.uniform(0,1)\n",
    "            if B[i][j] < K[i][j]:\n",
    "                B[i][j] = 1\n",
    "            else:\n",
    "                B[i][j] = 0\n",
    "            B[j][i] = B[i][j]\n",
    "    A = B\n",
    "    return A\n",
    "\n",
    "# Generate B\n",
    "def B_adj(ro,K,A):\n",
    "    B = np.zeros([len(A),len(A)])\n",
    "    for i in range(len(B)):\n",
    "        for j in range(i+1,len(B)):\n",
    "            B[i][j] =random.uniform(0,1)\n",
    "            if B[i][j] < (1-ro)*K[i][j] + ro*A[i][j]:\n",
    "                B[i][j] = 1\n",
    "            else:\n",
    "                B[i][j] = 0\n",
    "            B[j][i] = B[i][j]\n",
    "    return B\n",
    "    \n",
    "    \n",
    "                \n",
    "            \n",
    "                \n",
    "            \n"
   ]
  },
  {
   "cell_type": "code",
   "execution_count": null,
   "metadata": {},
   "outputs": [],
   "source": []
  },
  {
   "cell_type": "code",
   "execution_count": 3,
   "metadata": {},
   "outputs": [],
   "source": [
    "#Construct a n-degree permutation matrix \n",
    "\n",
    "def permu(N):\n",
    "    E=np.identity(N)\n",
    "    permutation = np.random.permutation(N)\n",
    "    P=np.zeros([N,N]) #initialize the permutation matrix\n",
    "     \n",
    "    for i in range(0,N):\n",
    "        P[i]=E[permutation[i]]\n",
    "    \n",
    "    \n",
    "    return P.astype(int)\n"
   ]
  },
  {
   "cell_type": "code",
   "execution_count": 4,
   "metadata": {},
   "outputs": [],
   "source": [
    "# Generate a random aj matrix for unweighted and undirected graph\n",
    "def generate_aj_matrix(n):\n",
    "    id = np.identity(n)\n",
    "    ones_mat=np.ones((n, n)) \n",
    "    arr = ones_mat - id\n",
    "    #print(arr)\n",
    "    for i in range(n):\n",
    "        for j in range(i+1,n):\n",
    "            arr[i][j] = random.choice([0,1])\n",
    "            arr[j][i] = arr[i][j]\n",
    "    return arr"
   ]
  },
  {
   "cell_type": "code",
   "execution_count": null,
   "metadata": {},
   "outputs": [],
   "source": []
  },
  {
   "cell_type": "code",
   "execution_count": null,
   "metadata": {},
   "outputs": [],
   "source": []
  },
  {
   "cell_type": "code",
   "execution_count": 5,
   "metadata": {},
   "outputs": [],
   "source": [
    "def ret_permu_result(l,n):\n",
    "    ret = np.zeros((n, n))\n",
    "    for i in range(n):\n",
    "        ret[i][l[i]] = 1\n",
    "    #print(ret)\n",
    "    return ret"
   ]
  },
  {
   "cell_type": "code",
   "execution_count": null,
   "metadata": {},
   "outputs": [],
   "source": [
    "\n"
   ]
  },
  {
   "cell_type": "code",
   "execution_count": 6,
   "metadata": {},
   "outputs": [],
   "source": [
    "def f_for_step_3(A,B,P):\n",
    "    return -np.trace(A@P@B.T@P.T)"
   ]
  },
  {
   "cell_type": "code",
   "execution_count": 7,
   "metadata": {},
   "outputs": [],
   "source": [
    "def get_alpha_value(A,B,P,Q):\n",
    "    alpha = 0\n",
    "    a = -np.trace(A@P@B.T@P.T-A@P@B.T@Q.T-A@Q@B.T@P.T+A@Q@B.T@Q.T)\n",
    "    b  = np.trace(2*(A@P@B.T@P.T)-A@P@B.T@Q.T-A@Q@B.T@P.T)\n",
    "    x_extreme = -b/(2*a)\n",
    "    dic = dict()\n",
    "    dic[0] = f_for_step_3(A,B,P)\n",
    "    dic[1]=f_for_step_3(A,B,Q)\n",
    "    dic[x_extreme] = f_for_step_3(A,B,(1-x_extreme)*P+x_extreme*Q)\n",
    "    \n",
    "    #print(dic)\n",
    "    if (x_extreme < 1) and (x_extreme>0):    \n",
    "        Min = dic[0]\n",
    "        key = 0\n",
    "        for k, v in dic.items():\n",
    "            if v < Min:\n",
    "                #print(key, Min)\n",
    "                #print(k,v)\n",
    "                #print(v < Min)\n",
    "                key = k\n",
    "                Min = v\n",
    "        #print(key)\n",
    "        return key\n",
    "    else:\n",
    "        \n",
    "        Min = dic[0]\n",
    "        if dic[1]<Min:\n",
    "            Min = dic[1]\n",
    "            #print(1)\n",
    "            return 1\n",
    "        #print(0)\n",
    "        return 0 \n",
    "        \n",
    "\n",
    "    "
   ]
  },
  {
   "cell_type": "code",
   "execution_count": 8,
   "metadata": {},
   "outputs": [],
   "source": [
    "def loss_P_1_percent(P_D_r,P_1):\n",
    "    loss = 0\n",
    "    for i in (P_D_r==P_1):\n",
    "        for j in i:\n",
    "            if j == False:\n",
    "                loss +=1\n",
    "    loss = loss/2\n",
    "    loss_percent = loss/n\n",
    "    return loss_percent"
   ]
  },
  {
   "cell_type": "code",
   "execution_count": 9,
   "metadata": {},
   "outputs": [],
   "source": [
    "def FAQ(n,A,B,initial,eps,loop,num_loop):\n",
    "    loop += 1\n",
    "    # Compute gradient\n",
    "    gradient = -A@initial@B.T - A.T@initial@B\n",
    "        \n",
    "    # Dropping terms independent of P\n",
    "    x,y,c = lapjv(gradient)\n",
    "    index_list = y\n",
    "    Q = ret_permu_result(index_list,n)\n",
    "    \n",
    "    \n",
    "    # Update P\n",
    "    alpha = get_alpha_value(A,B,initial,Q)\n",
    "    P_new = (1-alpha)*initial + alpha*Q\n",
    "    #P_new = initial + alpha*Q\n",
    "    \n",
    "    \n",
    "    if loop>num_loop:\n",
    "        # Projection\n",
    "        e,r,t = lapjv(-P_new.T)\n",
    "        #print(r)\n",
    "        P_result = ret_permu_result(r,n).T\n",
    "        #print(\"out of time\",P_result)\n",
    "        return P_result\n",
    "\n",
    "    if LA.norm(P_new-initial, 'fro') < eps:\n",
    "        # Projection\n",
    "        e,r,t = lapjv(-P_new.T)\n",
    "        #print(r)\n",
    "        P_result = ret_permu_result(r,n).T\n",
    "        #print(\"norm close\\n\",P_result)\n",
    "        return P_result\n",
    "    else:\n",
    "        return FAQ(n,A,B,P_new,eps,loop,num_loop) \n",
    "    #print(P_new)"
   ]
  },
  {
   "cell_type": "code",
   "execution_count": null,
   "metadata": {},
   "outputs": [],
   "source": []
  },
  {
   "cell_type": "code",
   "execution_count": 10,
   "metadata": {},
   "outputs": [],
   "source": [
    "\n",
    "\n",
    "def Projection_D_cvx(A,B,n,P_1):\n",
    "    starttime = datetime.datetime.now()\n",
    "    \n",
    "    P = cp.Variable((n,n))\n",
    "    arr = cp.expressions.constants.Constant([[1 for i in range(n)]])\n",
    "    constraints = [P.__matmul__(arr) == arr, P.T.__matmul__(arr) == arr, cp.min(P)>=0]\n",
    "    prob = cp.Problem(cp.Minimize((cp.norm(P.__matmul__(B)-(P.T.__matmul__(A.T)).T, 'fro'))**2), constraints)\n",
    "    # prob = cp.Problem(cp.Minimize(LA.norm(np.multiply(P,A)-np.matmul(B,P), 'fro')), constraints)\n",
    "    prob.solve()\n",
    "    \n",
    "    \n",
    "    P_step_1 = copy.deepcopy(P.value)\n",
    "\n",
    "    # Projection\n",
    "    e,r,t = lapjv(-P_step_1)\n",
    "    #print(r)\n",
    "    P_D_r = ret_permu_result(r,n)\n",
    "    \n",
    "    loss = 0\n",
    "    for i in (P_D_r==P_1):\n",
    "        for j in i:\n",
    "            if j == False:\n",
    "                loss +=1\n",
    "    loss = loss/2\n",
    "    loss_percent = loss/n\n",
    "    align_percent = 1- loss_percent\n",
    "    #print(loss_percent)\n",
    "    \n",
    "    original_error = LA.norm(A@P_1 - P_1@B,\"fro\")\n",
    "    extra_error = LA.norm(A@P_D_r - P_D_r@B,\"fro\")\n",
    "    \n",
    "    endtime = datetime.datetime.now()\n",
    "    runtime = endtime - starttime\n",
    "    total_seconds = runtime.total_seconds()\n",
    "    return [align_percent, total_seconds, extra_error]\n"
   ]
  },
  {
   "cell_type": "code",
   "execution_count": 11,
   "metadata": {},
   "outputs": [],
   "source": [
    "\n",
    "\n",
    "def initialization_D_cvx(A,B,n,num_loop,P_1):\n",
    "    starttime = datetime.datetime.now()\n",
    "    # check if the same as cvxpy\n",
    "    # Define and solve the CVXPY problem.\n",
    "    #P_1 = np.identity(n)\n",
    "    P = cp.Variable((n,n))\n",
    "    arr = cp.expressions.constants.Constant([[1 for i in range(n)]])\n",
    "    constraints = [P.__matmul__(arr) == arr, P.T.__matmul__(arr) == arr, cp.min(P)>=0]\n",
    "    prob = cp.Problem(cp.Minimize((cp.norm(P.__matmul__(B)-(P.T.__matmul__(A.T)).T, 'fro'))**2), constraints)\n",
    "    # prob = cp.Problem(cp.Minimize(LA.norm(np.multiply(P,A)-np.matmul(B,P), 'fro')), constraints)\n",
    "    prob.solve()\n",
    "\n",
    "    initial_D = P.value\n",
    "    P_D_r = FAQ(n,A,B,initial_D,10**(-9),0,num_loop)\n",
    "    \n",
    "    loss = 0\n",
    "    for i in (P_D_r==P_1):\n",
    "        for j in i:\n",
    "            if j == False:\n",
    "                loss +=1\n",
    "    loss = loss/2\n",
    "    loss_percent = loss/n\n",
    "    align_percent = 1- loss_percent\n",
    "    #print(loss_percent)\n",
    "    \n",
    "    original_error = LA.norm(A@P_1 - P_1@B,\"fro\")\n",
    "    extra_error = LA.norm(A@P_D_r - P_D_r@B,\"fro\")\n",
    "    \n",
    "    endtime = datetime.datetime.now()\n",
    "    runtime = endtime - starttime\n",
    "    total_seconds = runtime.total_seconds()\n",
    "    return [align_percent, total_seconds, extra_error]\n"
   ]
  },
  {
   "cell_type": "code",
   "execution_count": 12,
   "metadata": {},
   "outputs": [],
   "source": [
    "\n",
    "\n",
    "def initialization_J(A,B,n,num_loop,P_1):\n",
    "    starttime = datetime.datetime.now()\n",
    "\n",
    "    one_arr = np.ones((n, 1))\n",
    "    initial_D = one_arr@one_arr.T / n\n",
    "    \n",
    "    P_D_r = FAQ(n,A,B,initial_D,10**(-9),0,num_loop)\n",
    "    \n",
    "    loss = 0\n",
    "    for i in (P_D_r==P_1):\n",
    "        for j in i:\n",
    "            if j == False:\n",
    "                loss +=1\n",
    "    loss = loss/2\n",
    "    loss_percent = loss/n\n",
    "    align_percent = 1- loss_percent\n",
    "    #print(loss_percent)\n",
    "    \n",
    "    original_error = LA.norm(A@P_1 - P_1@B,\"fro\")\n",
    "    extra_error = LA.norm(A@P_D_r - P_D_r@B,\"fro\")\n",
    "    \n",
    "    endtime = datetime.datetime.now()\n",
    "    runtime = endtime - starttime\n",
    "    total_seconds = runtime.total_seconds()\n",
    "    return [align_percent, total_seconds, extra_error]\n"
   ]
  },
  {
   "cell_type": "code",
   "execution_count": 13,
   "metadata": {},
   "outputs": [],
   "source": [
    "\n",
    "def comparison(ro,alpha,n,k,num_loop):\n",
    "    sum_runtime_D_pro = 0\n",
    "    sum_runtime_D_fap = 0\n",
    "    sum_runtime_J_fap = 0\n",
    "    sum_error_D_pro = 0\n",
    "    sum_error_D_fap = 0\n",
    "    sum_error_J_fap = 0\n",
    "    for i in range(k):\n",
    "        P_1 = permu(n)\n",
    "        K= K_Bernoulli(n,alpha)\n",
    "        A = A_adj(K)\n",
    "        B_ori = B_adj(ro,K,A)\n",
    "        B = np.matmul(P_1.T, np.matmul(B_ori,P_1))\n",
    "        P_D = Projection_D_cvx(A,B,n,P_1)\n",
    "        FAP_D = initialization_D_cvx(A,B,n,num_loop,P_1)\n",
    "        FAP_J = initialization_J(A,B,n,num_loop,P_1)\n",
    "    \n",
    "        sum_runtime_D_pro += P_D[1]\n",
    "        sum_runtime_D_fap += FAP_D[1]\n",
    "        sum_runtime_J_fap += FAP_J[1]\n",
    "        sum_error_D_pro +=P_D[2]\n",
    "        sum_error_D_fap +=FAP_D[2]\n",
    "        sum_error_J_fap +=FAP_J[2]\n",
    "        \n",
    "    \n",
    "    runtime_D_pro=sum_runtime_D_pro/k\n",
    "    runtime_D_fap=sum_runtime_D_fap/k\n",
    "    runtime_J_fap = sum_runtime_J_fap/k\n",
    "    \n",
    "    error_D_pro = sum_error_D_pro/k\n",
    "    error_D_fap = sum_error_D_fap/k\n",
    "    error_J_fap = sum_error_J_fap/k\n",
    "    \n",
    "    \n",
    "    return runtime_D_pro,runtime_D_fap,runtime_J_fap,error_D_pro,error_D_fap,error_J_fap\n",
    "    \n",
    "        \n"
   ]
  },
  {
   "cell_type": "code",
   "execution_count": null,
   "metadata": {},
   "outputs": [],
   "source": []
  },
  {
   "cell_type": "code",
   "execution_count": 14,
   "metadata": {},
   "outputs": [
    {
     "name": "stderr",
     "output_type": "stream",
     "text": [
      "<ipython-input-14-947385660bac>:9: TqdmDeprecationWarning: This function will be removed in tqdm==5.0.0\n",
      "Please use `tqdm.notebook.tqdm` instead of `tqdm.tqdm_notebook`\n",
      "  for i in tqdm_notebook(range(len(ro))):\n"
     ]
    },
    {
     "data": {
      "application/vnd.jupyter.widget-view+json": {
       "model_id": "cc803595d3744e0e96e750aad388914e",
       "version_major": 2,
       "version_minor": 0
      },
      "text/plain": [
       "HBox(children=(FloatProgress(value=0.0, max=20.0), HTML(value='')))"
      ]
     },
     "metadata": {},
     "output_type": "display_data"
    },
    {
     "name": "stderr",
     "output_type": "stream",
     "text": [
      "<ipython-input-7-9c6fdf298a1d>:5: RuntimeWarning: invalid value encountered in double_scalars\n",
      "  x_extreme = -b/(2*a)\n",
      "<ipython-input-7-9c6fdf298a1d>:5: RuntimeWarning: divide by zero encountered in double_scalars\n",
      "  x_extreme = -b/(2*a)\n",
      "<ipython-input-7-9c6fdf298a1d>:9: RuntimeWarning: invalid value encountered in multiply\n",
      "  dic[x_extreme] = f_for_step_3(A,B,(1-x_extreme)*P+x_extreme*Q)\n",
      "<ipython-input-7-9c6fdf298a1d>:9: RuntimeWarning: invalid value encountered in add\n",
      "  dic[x_extreme] = f_for_step_3(A,B,(1-x_extreme)*P+x_extreme*Q)\n"
     ]
    },
    {
     "name": "stdout",
     "output_type": "stream",
     "text": [
      "Runtime: 173.838521 169.43707899999998 0.008902799999999999\n",
      "Error:  32.4492767103228 26.913870466485385 27.37137605899049\n"
     ]
    },
    {
     "name": "stderr",
     "output_type": "stream",
     "text": [
      "/opt/anaconda3/lib/python3.8/site-packages/cvxpy/problems/problem.py:1125: UserWarning: Solution may be inaccurate. Try another solver, adjusting the solver settings, or solve with verbose=True for more information.\n",
      "  warnings.warn(\n"
     ]
    },
    {
     "name": "stdout",
     "output_type": "stream",
     "text": [
      "Runtime: 212.60335020000002 221.07205759999997 0.013428600000000002\n",
      "Error:  32.1171065556815 27.05288595115318 27.26104513615216\n",
      "Runtime: 182.49256080000004 182.34924320000002 0.1259868\n",
      "Error:  32.715441038480755 26.995923795824172 27.261432528249337\n",
      "Runtime: 183.592389 180.76092219999998 0.1116696\n",
      "Error:  32.348051088248994 27.127249623537885 27.038324472789565\n",
      "Runtime: 186.13964019999997 186.7968066 0.1640104\n",
      "Error:  31.962899928329023 27.2102187751264 27.179965110676182\n",
      "Runtime: 224.961753 218.1255446 0.1076986\n",
      "Error:  32.62189139438547 27.105578112208168 27.19432339417216\n",
      "Runtime: 235.14550319999998 239.2605576 0.0124686\n",
      "Error:  32.481821742614784 27.099227740979256 27.289620078015474\n",
      "Runtime: 356.600425 349.52935419999994 0.010621799999999999\n",
      "Error:  32.31437089238851 27.121311281938212 27.251968065919375\n",
      "Runtime: 233.25671819999997 1552.7110564000002 0.0107238\n",
      "Error:  32.05210066840674 27.179697566105414 27.150074860579586\n",
      "Runtime: 212.838157 212.79455160000003 0.026281200000000005\n",
      "Error:  32.74437661204199 27.136286341064523 27.310135651549576\n",
      "Runtime: 173.5418338 173.386493 0.0097448\n",
      "Error:  31.98452153609778 27.20210121667307 27.02358972037178\n",
      "Runtime: 171.6374902 171.5897844 0.12449419999999997\n",
      "Error:  32.191440489117376 26.928136224637285 27.383429253403484\n",
      "Runtime: 185.922657 185.8756112 0.0093832\n",
      "Error:  31.679486205992 26.883610260111073 27.531636644157153\n",
      "Runtime: 186.8247296 186.51701939999998 0.1219858\n",
      "Error:  31.299802184081745 23.911416135475495 27.282728236609\n",
      "Runtime: 187.93114599999998 187.62878759999998 0.011580799999999999\n",
      "Error:  30.804758207397157 18.585478719758903 27.2156047574321\n",
      "Runtime: 214.031068 213.62979479999998 0.0099512\n",
      "Error:  28.881503611874855 18.310169231588947 27.23219086233255\n",
      "Runtime: 164.3494986 165.1030438 0.1094226\n",
      "Error:  17.18836222263078 13.641481644676167 27.216469277398012\n",
      "Runtime: 218.1966832 218.33795919999997 0.0095196\n",
      "Error:  10.683535260753242 10.683535260753242 20.39562438930739\n",
      "Runtime: 147.0770164 147.2426506 0.0095904\n",
      "Error:  7.743777924260262 7.743777924260262 23.088091280193883\n",
      "Runtime: 244.48504440000002 244.73981560000001 0.005401600000000001\n",
      "Error:  0.0 0.0 0.0\n",
      "\n"
     ]
    }
   ],
   "source": [
    "\n",
    "D_pro_runtime_list=[]\n",
    "D_fap_runtime_list = []\n",
    "J_fap_runtime_list = []\n",
    "D_pro_error_list = []\n",
    "D_fap_error_list = []\n",
    "J_fap_error_list = []\n",
    "\n",
    "\n",
    "for i in tqdm_notebook(range(len(ro))):\n",
    "    ro_temp = ro[i]\n",
    "    r1, r2, r3,e1,e2,e3 = comparison(ro_temp,a,n,k,num_loop)\n",
    "    print(\"Runtime:\", r1,r2,r3)\n",
    "    print(\"Error: \", e1,e2,e3)\n",
    "    D_pro_runtime_list.append(r1)\n",
    "    D_fap_runtime_list.append(r2)\n",
    "    J_fap_runtime_list.append(r3)\n",
    "    D_pro_error_list.append(e1)\n",
    "    D_fap_error_list.append(e2)\n",
    "    J_fap_error_list.append(e3)"
   ]
  },
  {
   "cell_type": "code",
   "execution_count": 15,
   "metadata": {},
   "outputs": [
    {
     "name": "stdout",
     "output_type": "stream",
     "text": [
      "[173.838521, 212.60335020000002, 182.49256080000004, 183.592389, 186.13964019999997, 224.961753, 235.14550319999998, 356.600425, 233.25671819999997, 212.838157, 173.5418338, 171.6374902, 185.922657, 186.8247296, 187.93114599999998, 214.031068, 164.3494986, 218.1966832, 147.0770164, 244.48504440000002] [169.43707899999998, 221.07205759999997, 182.34924320000002, 180.76092219999998, 186.7968066, 218.1255446, 239.2605576, 349.52935419999994, 1552.7110564000002, 212.79455160000003, 173.386493, 171.5897844, 185.8756112, 186.51701939999998, 187.62878759999998, 213.62979479999998, 165.1030438, 218.33795919999997, 147.2426506, 244.73981560000001] [0.008902799999999999, 0.013428600000000002, 0.1259868, 0.1116696, 0.1640104, 0.1076986, 0.0124686, 0.010621799999999999, 0.0107238, 0.026281200000000005, 0.0097448, 0.12449419999999997, 0.0093832, 0.1219858, 0.011580799999999999, 0.0099512, 0.1094226, 0.0095196, 0.0095904, 0.005401600000000001] [32.4492767103228, 32.1171065556815, 32.715441038480755, 32.348051088248994, 31.962899928329023, 32.62189139438547, 32.481821742614784, 32.31437089238851, 32.05210066840674, 32.74437661204199, 31.98452153609778, 32.191440489117376, 31.679486205992, 31.299802184081745, 30.804758207397157, 28.881503611874855, 17.18836222263078, 10.683535260753242, 7.743777924260262, 0.0] [26.913870466485385, 27.05288595115318, 26.995923795824172, 27.127249623537885, 27.2102187751264, 27.105578112208168, 27.099227740979256, 27.121311281938212, 27.179697566105414, 27.136286341064523, 27.20210121667307, 26.928136224637285, 26.883610260111073, 23.911416135475495, 18.585478719758903, 18.310169231588947, 13.641481644676167, 10.683535260753242, 7.743777924260262, 0.0] [27.37137605899049, 27.26104513615216, 27.261432528249337, 27.038324472789565, 27.179965110676182, 27.19432339417216, 27.289620078015474, 27.251968065919375, 27.150074860579586, 27.310135651549576, 27.02358972037178, 27.383429253403484, 27.531636644157153, 27.282728236609, 27.2156047574321, 27.23219086233255, 27.216469277398012, 20.39562438930739, 23.088091280193883, 0.0]\n"
     ]
    }
   ],
   "source": [
    "print(D_pro_runtime_list,D_fap_runtime_list,J_fap_runtime_list,D_pro_error_list,\n",
    "      D_fap_error_list,J_fap_error_list)"
   ]
  },
  {
   "cell_type": "code",
   "execution_count": null,
   "metadata": {},
   "outputs": [],
   "source": []
  },
  {
   "cell_type": "code",
   "execution_count": null,
   "metadata": {},
   "outputs": [],
   "source": []
  },
  {
   "cell_type": "code",
   "execution_count": 21,
   "metadata": {},
   "outputs": [
    {
     "name": "stderr",
     "output_type": "stream",
     "text": [
      "The PostScript backend does not support transparency; partially transparent artists will be rendered opaque.\n",
      "The PostScript backend does not support transparency; partially transparent artists will be rendered opaque.\n"
     ]
    },
    {
     "data": {
      "image/png": "[encoded data removed]",
      "text/plain": [
       "<Figure size 432x288 with 1 Axes>"
      ]
     },
     "metadata": {
      "needs_background": "light"
     },
     "output_type": "display_data"
    }
   ],
   "source": [
    "\n",
    "\n",
    "plt.plot(ro, D_pro_error_list,label=\"D_Projection\")\n",
    "plt.plot(ro, D_fap_error_list, label=\"D_FAP\")\n",
    "plt.plot(ro, J_fap_error_list, label=\"J_FAP\")\n",
    "plt.xlabel(r'$\\rho$')\n",
    "plt.ylabel('Error')\n",
    "plt.grid()\n",
    "plt.legend()\n",
    "#plt.show()\n",
    "#plt.close()\n",
    "plt.savefig('Error of the three.eps', dpi=500)\n",
    "\n",
    "\n"
   ]
  },
  {
   "cell_type": "code",
   "execution_count": 22,
   "metadata": {},
   "outputs": [
    {
     "name": "stderr",
     "output_type": "stream",
     "text": [
      "The PostScript backend does not support transparency; partially transparent artists will be rendered opaque.\n",
      "The PostScript backend does not support transparency; partially transparent artists will be rendered opaque.\n"
     ]
    },
    {
     "data": {
      "image/png": "[encoded data removed]",
      "text/plain": [
       "<Figure size 432x288 with 1 Axes>"
      ]
     },
     "metadata": {
      "needs_background": "light"
     },
     "output_type": "display_data"
    }
   ],
   "source": [
    "plt.plot(ro, D_pro_error_list,label=\"D_Projection\")\n",
    "plt.plot(ro, D_fap_error_list, label=\"D_FAP\")\n",
    "\n",
    "plt.xlabel(r'$\\rho$')\n",
    "plt.ylabel('Error')\n",
    "plt.grid()\n",
    "plt.legend()\n",
    "#plt.show()\n",
    "#plt.close()\n",
    "plt.savefig('Whether FAP gives better perfromance (Error).eps', dpi=500)\n"
   ]
  },
  {
   "cell_type": "code",
   "execution_count": null,
   "metadata": {},
   "outputs": [],
   "source": []
  },
  {
   "cell_type": "code",
   "execution_count": null,
   "metadata": {},
   "outputs": [],
   "source": []
  },
  {
   "cell_type": "code",
   "execution_count": null,
   "metadata": {},
   "outputs": [],
   "source": []
  },
  {
   "cell_type": "code",
   "execution_count": null,
   "metadata": {},
   "outputs": [],
   "source": []
  },
  {
   "cell_type": "code",
   "execution_count": null,
   "metadata": {},
   "outputs": [],
   "source": []
  },
  {
   "cell_type": "code",
   "execution_count": null,
   "metadata": {},
   "outputs": [],
   "source": []
  },
  {
   "cell_type": "code",
   "execution_count": null,
   "metadata": {},
   "outputs": [],
   "source": []
  }
 ],
 "metadata": {
  "kernelspec": {
   "display_name": "Python 3",
   "language": "python",
   "name": "python3"
  },
  "language_info": {
   "codemirror_mode": {
    "name": "ipython",
    "version": 3
   },
   "file_extension": ".py",
   "mimetype": "text/x-python",
   "name": "python",
   "nbconvert_exporter": "python",
   "pygments_lexer": "ipython3",
   "version": "3.8.3"
  }
 },
 "nbformat": 4,
 "nbformat_minor": 4
}
