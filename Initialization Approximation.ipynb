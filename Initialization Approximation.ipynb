{
 "cells": [
  {
   "cell_type": "code",
   "execution_count": 17,
   "metadata": {},
   "outputs": [
    {
     "name": "stdout",
     "output_type": "stream",
     "text": [
      "50000\n"
     ]
    }
   ],
   "source": [
    "import numpy as np\n",
    "import networkx as nx\n",
    "import matplotlib.pyplot as plt\n",
    "import random\n",
    "import cvxpy as cp\n",
    "from numpy import linalg as LA\n",
    "import pprint\n",
    "from lap import lapjv\n",
    "import copy\n",
    "import sys\n",
    "import datetime\n",
    "from tqdm import tqdm_notebook\n",
    "\n",
    "print(sys.getrecursionlimit())\n",
    "sys.setrecursionlimit(50000)\n",
    "\n",
    "N = [18,22,26,30,34,38,42,46,50,54,58,62,66]\n",
    "ro = 0.8\n",
    "a = 0.2\n",
    "k = 10\n",
    "\n",
    "num_loop = 1000\n"
   ]
  },
  {
   "cell_type": "code",
   "execution_count": 2,
   "metadata": {},
   "outputs": [],
   "source": [
    "# Construct K\n",
    "def K_Bernoulli(n,a):\n",
    "    np.random.seed(3)\n",
    "    K=np.identity(n)\n",
    "    P=np.ones([n,n]) \n",
    "    K = P-K\n",
    "    #print(K)\n",
    "    for i in range(n):\n",
    "        for j in range(i+1,n):\n",
    "            K[i][j] = round(random.uniform(a,1-a),2)\n",
    "            #K[i][j] = random.uniform(alpha,1-alpha)\n",
    "            K[j][i]=K[i][j]        \n",
    "    return K\n",
    "     \n",
    "\n",
    "# Generate A\n",
    "def A_adj(K):\n",
    "    n = len(K)\n",
    "    B=np.identity(len(K))\n",
    "    P=np.ones([n,n]) \n",
    "    #print(P)\n",
    "    B= P-B\n",
    "    #print(B)\n",
    "    for i in range(len(B)):\n",
    "        for j in range(i+1,len(B)):\n",
    "            B[i][j] =random.uniform(0,1)\n",
    "            if B[i][j] < K[i][j]:\n",
    "                B[i][j] = 1\n",
    "            else:\n",
    "                B[i][j] = 0\n",
    "            B[j][i] = B[i][j]\n",
    "    A = B\n",
    "    return A\n",
    "\n",
    "# Generate B\n",
    "def B_adj(ro,K,A):\n",
    "    B = np.zeros([len(A),len(A)])\n",
    "    for i in range(len(B)):\n",
    "        for j in range(i+1,len(B)):\n",
    "            B[i][j] =random.uniform(0,1)\n",
    "            if B[i][j] < (1-ro)*K[i][j] + ro*A[i][j]:\n",
    "                B[i][j] = 1\n",
    "            else:\n",
    "                B[i][j] = 0\n",
    "            B[j][i] = B[i][j]\n",
    "    return B\n",
    "    \n",
    "    \n",
    "                \n",
    "            \n",
    "                \n",
    "            \n"
   ]
  },
  {
   "cell_type": "code",
   "execution_count": null,
   "metadata": {},
   "outputs": [],
   "source": []
  },
  {
   "cell_type": "code",
   "execution_count": null,
   "metadata": {},
   "outputs": [],
   "source": []
  },
  {
   "cell_type": "code",
   "execution_count": 3,
   "metadata": {},
   "outputs": [],
   "source": [
    "#Construct a n-degree permutation matrix \n",
    "\n",
    "def permu(N):\n",
    "    E=np.identity(N)\n",
    "    permutation = np.random.permutation(N)\n",
    "    P=np.zeros([N,N]) #initialize the permutation matrix\n",
    "     \n",
    "    for i in range(0,N):\n",
    "        P[i]=E[permutation[i]]\n",
    "    \n",
    "    \n",
    "    return P.astype(int)\n",
    "\n"
   ]
  },
  {
   "cell_type": "code",
   "execution_count": 4,
   "metadata": {},
   "outputs": [],
   "source": [
    "# Generate a random aj matrix for unweighted and undirected graph\n",
    "def generate_aj_matrix(n):\n",
    "    id = np.identity(n)\n",
    "    ones_mat=np.ones((n, n)) \n",
    "    arr = ones_mat - id\n",
    "    #print(arr)\n",
    "    for i in range(n):\n",
    "        for j in range(i+1,n):\n",
    "            arr[i][j] = random.choice([0,1])\n",
    "            arr[j][i] = arr[i][j]\n",
    "    return arr"
   ]
  },
  {
   "cell_type": "code",
   "execution_count": null,
   "metadata": {},
   "outputs": [],
   "source": []
  },
  {
   "cell_type": "code",
   "execution_count": null,
   "metadata": {},
   "outputs": [],
   "source": []
  },
  {
   "cell_type": "code",
   "execution_count": null,
   "metadata": {},
   "outputs": [],
   "source": []
  },
  {
   "cell_type": "code",
   "execution_count": 5,
   "metadata": {},
   "outputs": [],
   "source": [
    "def ret_permu_result(l,n):\n",
    "    ret = np.zeros((n, n))\n",
    "    for i in range(n):\n",
    "        ret[i][l[i]] = 1\n",
    "    #print(ret)\n",
    "    return ret"
   ]
  },
  {
   "cell_type": "code",
   "execution_count": null,
   "metadata": {},
   "outputs": [],
   "source": [
    "\n"
   ]
  },
  {
   "cell_type": "code",
   "execution_count": null,
   "metadata": {},
   "outputs": [],
   "source": []
  },
  {
   "cell_type": "code",
   "execution_count": null,
   "metadata": {},
   "outputs": [],
   "source": [
    "\n"
   ]
  },
  {
   "cell_type": "code",
   "execution_count": null,
   "metadata": {},
   "outputs": [],
   "source": []
  },
  {
   "cell_type": "code",
   "execution_count": 6,
   "metadata": {},
   "outputs": [],
   "source": [
    "def FAQ(n,A,B,initial,eps,loop,num_loop):\n",
    "    loop += 1\n",
    "    \n",
    "    gradient = 2*A.T@A@initial - 2*(A.T@initial@B + A@initial@B.T) +2*initial@B@B.T\n",
    "    \n",
    "        \n",
    "    # Dropping terms independent of P\n",
    "    x,y,c = lapjv(gradient)\n",
    "    index_list = y\n",
    "    Q = ret_permu_result(index_list,n)\n",
    "    \n",
    "    # Find alpha\n",
    "    alpha = cp.Variable(1)\n",
    "    #print(alpha.shape)(1-alpha)*\n",
    "    P = (1-alpha)*initial+ alpha * Q\n",
    "    objective = cp.Minimize((cp.norm(A@P-P@B, 'fro'))**2)\n",
    "    constraints = [0<= alpha, alpha<= 1]\n",
    "    prob = cp.Problem(objective, constraints)\n",
    "    prob.solve()\n",
    "    \n",
    "    P_new = (1-alpha.value[0])*initial + alpha.value[0]*Q\n",
    "    \n",
    "    if loop>num_loop:\n",
    "        # Projection\n",
    "        e,r,t = lapjv(-P_new.T)\n",
    "        #print(r)\n",
    "        P_result = ret_permu_result(r,n).T\n",
    "        return [P_new,P_result]\n",
    "\n",
    "    if LA.norm(P_new-initial, 'fro') < eps:\n",
    "        # Projection\n",
    "        e,r,t = lapjv(-P_new.T)\n",
    "        #print(r)\n",
    "        P_result = ret_permu_result(r,n).T\n",
    "        #return P_result\n",
    "        return [P_new,P_result]\n",
    "    else:\n",
    "        return FAQ(n,A,B,P_new,eps,loop,num_loop) \n",
    "    #print(P_new)"
   ]
  },
  {
   "cell_type": "code",
   "execution_count": null,
   "metadata": {},
   "outputs": [],
   "source": [
    "\n",
    "\n",
    "\n"
   ]
  },
  {
   "cell_type": "code",
   "execution_count": null,
   "metadata": {},
   "outputs": [],
   "source": []
  },
  {
   "cell_type": "code",
   "execution_count": 7,
   "metadata": {},
   "outputs": [],
   "source": [
    "def faq_proj(n,A,B,initial,num_loop):\n",
    "    starttime = datetime.datetime.now()\n",
    "    result = FAQ(n,A,B,initial,10**(-9),0,num_loop)\n",
    "    D_r_1 = result[0]\n",
    "\n",
    "    nr_1 = LA.norm(A@D_r_1-D_r_1@B,\"fro\")\n",
    "    \n",
    "    P_r = result[1]\n",
    "    nr_2 = LA.norm(A@P_r-P_r@B,\"fro\")\n",
    "    #print(nr)\n",
    "    #print(\"Loss Step 2: \\n\",nr_2)\n",
    "    endtime = datetime.datetime.now()\n",
    "    runtime = endtime - starttime\n",
    "    total_seconds = runtime.total_seconds()\n",
    "    return [nr_2,total_seconds]"
   ]
  },
  {
   "cell_type": "code",
   "execution_count": 8,
   "metadata": {},
   "outputs": [],
   "source": [
    "def cvx_proj(A,B,n):\n",
    "    starttime = datetime.datetime.now()\n",
    "    # check if the same as cvxpy\n",
    "    # Define and solve the CVXPY problem.\n",
    "    \n",
    "    P = cp.Variable((n,n))\n",
    "    arr = cp.expressions.constants.Constant([[1 for i in range(n)]])\n",
    "    constraints = [P.__matmul__(arr) == arr, P.T.__matmul__(arr) == arr, cp.min(P)>=0]\n",
    "    prob = cp.Problem(cp.Minimize((cp.norm(P.__matmul__(B)-(P.T.__matmul__(A.T)).T, 'fro'))**2), constraints)\n",
    "    # prob = cp.Problem(cp.Minimize(LA.norm(np.multiply(P,A)-np.matmul(B,P), 'fro')), constraints)\n",
    "    prob.solve()\n",
    "\n",
    "    P_step_1 = copy.deepcopy(P.value)\n",
    "\n",
    "    nr_3 = LA.norm(A@P_step_1-P_step_1@B,\"fro\")\n",
    "    \n",
    "    e,r,t = lapjv(-P_step_1)\n",
    "    #print(r)\n",
    "    P_result = ret_permu_result(r,n)\n",
    "    nr_4 = LA.norm(A@P_result-P_result@B,\"fro\")\n",
    "    \n",
    "    endtime = datetime.datetime.now()\n",
    "    runtime = endtime - starttime\n",
    "    total_seconds = runtime.total_seconds()\n",
    "    return [nr_4,total_seconds]"
   ]
  },
  {
   "cell_type": "code",
   "execution_count": 9,
   "metadata": {},
   "outputs": [],
   "source": [
    "#Use Identity first\n",
    "\n",
    "def comparison(ro,alpha,n,k,num_loop):\n",
    "    one_arr = np.ones((n, 1))\n",
    "    initial = one_arr@one_arr.T / n\n",
    "    sum_runtime_D_cvx = 0\n",
    "    sum_runtime_D_fap = 0\n",
    "    sum_error_D_cvx = 0\n",
    "    sum_error_D_fap = 0\n",
    "    \n",
    "    for i in range(k):\n",
    "        P_1 = np.identity(n)\n",
    "        K= K_Bernoulli(n,alpha)\n",
    "        A = A_adj(K)\n",
    "        B_ori = B_adj(ro,K,A)\n",
    "        B = np.matmul(P_1.T, np.matmul(B_ori,P_1))\n",
    "        result_cvx = cvx_proj(A,B,n)\n",
    "        result_faq= faq_proj(n,A,B,initial,num_loop)\n",
    "        sum_runtime_D_cvx  +=result_cvx[1]\n",
    "        sum_runtime_D_fap  +=result_faq[1]\n",
    "        sum_error_D_cvx +=result_cvx[0]\n",
    "        sum_error_D_fap +=result_faq[0]\n",
    "        \n",
    "\n",
    "    runtime_D_cvx=sum_runtime_D_cvx/k\n",
    "    runtime_D_fap=sum_runtime_D_fap/k\n",
    "    \n",
    "    error_D_cvx = sum_error_D_cvx/k\n",
    "    error_D_fap = sum_error_D_fap/k\n",
    "    \n",
    "    return runtime_D_cvx,runtime_D_fap,error_D_cvx,error_D_fap\n",
    "    \n",
    "        \n"
   ]
  },
  {
   "cell_type": "code",
   "execution_count": 10,
   "metadata": {},
   "outputs": [
    {
     "name": "stderr",
     "output_type": "stream",
     "text": [
      "<ipython-input-10-9d2b11c697ee>:7: TqdmDeprecationWarning: This function will be removed in tqdm==5.0.0\n",
      "Please use `tqdm.notebook.tqdm` instead of `tqdm.tqdm_notebook`\n",
      "  for i in tqdm_notebook(range(len(N))):\n"
     ]
    },
    {
     "data": {
      "application/vnd.jupyter.widget-view+json": {
       "model_id": "45698aa94c6c493296a110c1f5092f34",
       "version_major": 2,
       "version_minor": 0
      },
      "text/plain": [
       "HBox(children=(FloatProgress(value=0.0, max=13.0), HTML(value='')))"
      ]
     },
     "metadata": {},
     "output_type": "display_data"
    },
    {
     "name": "stdout",
     "output_type": "stream",
     "text": [
      "Runtime: 0.4586156666666667 19.687944166666664\n",
      "Error:  6.138962697861486 6.221061429749644\n",
      "Runtime: 1.3130683333333333 21.00019083333334\n",
      "Error:  10.578320329382123 10.629758425005173\n",
      "Runtime: 3.4852523333333334 19.540527\n",
      "Error:  9.980675716505534 10.640664155592939\n",
      "Runtime: 7.541584333333333 18.581574333333332\n",
      "Error:  15.171953457731654 14.916861831629143\n",
      "Runtime: 18.16081816666667 24.85861516666667\n",
      "Error:  15.737149166209976 15.226037404560385\n"
     ]
    },
    {
     "name": "stderr",
     "output_type": "stream",
     "text": [
      "/opt/anaconda3/lib/python3.8/site-packages/cvxpy/problems/problem.py:1125: UserWarning: Solution may be inaccurate. Try another solver, adjusting the solver settings, or solve with verbose=True for more information.\n",
      "  warnings.warn(\n"
     ]
    },
    {
     "name": "stdout",
     "output_type": "stream",
     "text": [
      "Runtime: 50.83855883333334 28.020702166666663\n",
      "Error:  16.12393711915689 16.049599006034953\n",
      "Runtime: 61.13666433333333 25.842904166666667\n",
      "Error:  18.55067991642288 17.757961907800105\n",
      "Runtime: 145.31381083333335 27.418880666666666\n",
      "Error:  22.7246663986237 21.255677273180424\n",
      "Runtime: 205.29703733333335 30.843900833333333\n",
      "Error:  19.71813676234989 18.79991199127937\n",
      "Runtime: 258.0425371666667 35.06043183333333\n",
      "Error:  26.029967435339856 25.064697146147356\n",
      "Runtime: 636.3721653333333 42.5626915\n",
      "Error:  32.48861130343894 31.09814583147867\n",
      "Runtime: 745.4001691666667 52.028473166666664\n",
      "Error:  30.078786569613452 28.720507477173683\n",
      "Runtime: 2728.896502833333 88.57743149999999\n",
      "Error:  32.68829120901442 30.912155850567768\n",
      "\n"
     ]
    }
   ],
   "source": [
    "\n",
    "CVX_runtime_list=[]\n",
    "FAP_runtime_list = []\n",
    "CVX_error_list = []\n",
    "FAP_error_list = []\n",
    "\n",
    "\n",
    "for i in tqdm_notebook(range(len(N))):\n",
    "    n = N[i]\n",
    "    r_cvx,r_fap,error_cvx,error_fap = comparison(ro,a,n,k,num_loop)\n",
    "\n",
    "    print(\"Runtime:\", r_cvx,r_fap)\n",
    "    print(\"Error: \", error_cvx,error_fap)\n",
    "    CVX_runtime_list.append(r_cvx)\n",
    "    FAP_runtime_list.append(r_fap)\n",
    "    CVX_error_list.append(error_cvx)\n",
    "    FAP_error_list.append(error_fap)\n",
    "    "
   ]
  },
  {
   "cell_type": "code",
   "execution_count": 14,
   "metadata": {},
   "outputs": [
    {
     "name": "stdout",
     "output_type": "stream",
     "text": [
      "[0.4586156666666667, 1.3130683333333333, 3.4852523333333334, 7.541584333333333, 18.16081816666667, 50.83855883333334, 61.13666433333333, 145.31381083333335, 205.29703733333335, 258.0425371666667, 636.3721653333333, 745.4001691666667, 2728.896502833333]\n"
     ]
    }
   ],
   "source": [
    "print(CVX_runtime_list)"
   ]
  },
  {
   "cell_type": "code",
   "execution_count": 20,
   "metadata": {},
   "outputs": [
    {
     "name": "stdout",
     "output_type": "stream",
     "text": [
      "[19.687944166666664, 21.00019083333334, 19.540527, 18.581574333333332, 24.85861516666667, 28.020702166666663, 25.842904166666667, 27.418880666666666, 30.843900833333333, 35.06043183333333, 42.5626915, 52.028473166666664, 88.57743149999999]\n"
     ]
    }
   ],
   "source": [
    "print(FAP_runtime_list)"
   ]
  },
  {
   "cell_type": "code",
   "execution_count": 18,
   "metadata": {},
   "outputs": [
    {
     "name": "stderr",
     "output_type": "stream",
     "text": [
      "The PostScript backend does not support transparency; partially transparent artists will be rendered opaque.\n",
      "The PostScript backend does not support transparency; partially transparent artists will be rendered opaque.\n"
     ]
    },
    {
     "data": {
      "image/png": "[encoded data removed]",
      "text/plain": [
       "<Figure size 432x288 with 1 Axes>"
      ]
     },
     "metadata": {
      "needs_background": "light"
     },
     "output_type": "display_data"
    }
   ],
   "source": [
    "plt.plot(N, CVX_runtime_list,label=\"Initialization = D_cvx\")\n",
    "plt.plot(N, FAP_runtime_list, label=\"Initialization = D_fap\")\n",
    "plt.xlabel(r'$n$')\n",
    "plt.ylabel('Runtime')\n",
    "plt.grid()\n",
    "plt.legend()\n",
    "#plt.show()\n",
    "#plt.close()\n",
    "plt.savefig('Projection (runtime) with different n.eps', dpi=500)"
   ]
  },
  {
   "cell_type": "code",
   "execution_count": 21,
   "metadata": {},
   "outputs": [
    {
     "name": "stderr",
     "output_type": "stream",
     "text": [
      "The PostScript backend does not support transparency; partially transparent artists will be rendered opaque.\n",
      "The PostScript backend does not support transparency; partially transparent artists will be rendered opaque.\n"
     ]
    },
    {
     "data": {
      "image/png": "[encoded data removed]",
      "text/plain": [
       "<Figure size 432x288 with 1 Axes>"
      ]
     },
     "metadata": {
      "needs_background": "light"
     },
     "output_type": "display_data"
    }
   ],
   "source": [
    "plt.plot(N, CVX_error_list,label=\"Initialization = D_cvx\")\n",
    "plt.plot(N, FAP_error_list, label=\"Initialization = D_fap\")\n",
    "plt.xlabel(r'$n$')\n",
    "plt.ylabel('Error')\n",
    "plt.grid()\n",
    "plt.legend()\n",
    "#plt.show()\n",
    "#plt.close()\n",
    "plt.savefig('Projection (error) with different n (n large).eps', dpi=500)"
   ]
  },
  {
   "cell_type": "code",
   "execution_count": null,
   "metadata": {},
   "outputs": [],
   "source": []
  },
  {
   "cell_type": "code",
   "execution_count": null,
   "metadata": {},
   "outputs": [],
   "source": []
  },
  {
   "cell_type": "code",
   "execution_count": null,
   "metadata": {},
   "outputs": [],
   "source": []
  },
  {
   "cell_type": "code",
   "execution_count": null,
   "metadata": {},
   "outputs": [],
   "source": []
  },
  {
   "cell_type": "code",
   "execution_count": null,
   "metadata": {},
   "outputs": [],
   "source": []
  },
  {
   "cell_type": "code",
   "execution_count": null,
   "metadata": {},
   "outputs": [],
   "source": []
  }
 ],
 "metadata": {
  "kernelspec": {
   "display_name": "Python 3",
   "language": "python",
   "name": "python3"
  },
  "language_info": {
   "codemirror_mode": {
    "name": "ipython",
    "version": 3
   },
   "file_extension": ".py",
   "mimetype": "text/x-python",
   "name": "python",
   "nbconvert_exporter": "python",
   "pygments_lexer": "ipython3",
   "version": "3.8.3"
  }
 },
 "nbformat": 4,
 "nbformat_minor": 4
}
