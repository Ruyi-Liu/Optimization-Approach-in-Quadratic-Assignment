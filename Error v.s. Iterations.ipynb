{
 "cells": [
  {
   "cell_type": "code",
   "execution_count": 1,
   "metadata": {},
   "outputs": [
    {
     "name": "stdout",
     "output_type": "stream",
     "text": [
      "3000\n"
     ]
    }
   ],
   "source": [
    "import numpy as np\n",
    "import networkx as nx\n",
    "import matplotlib.pyplot as plt\n",
    "import random\n",
    "import cvxpy as cp\n",
    "from numpy import linalg as LA\n",
    "import pprint\n",
    "from lap import lapjv\n",
    "import copy\n",
    "import sys\n",
    "\n",
    "print(sys.getrecursionlimit())\n",
    "sys.setrecursionlimit(50000)\n",
    "\n",
    "n=20\n",
    "ro = 0.8\n",
    "a = 0.2\n",
    "num_loop = 3000\n"
   ]
  },
  {
   "cell_type": "code",
   "execution_count": 2,
   "metadata": {},
   "outputs": [],
   "source": [
    "# Construct K\n",
    "def K_Bernoulli(n,a):\n",
    "    np.random.seed(3)\n",
    "    K=np.identity(n)\n",
    "    P=np.ones([n,n]) \n",
    "    K = P-K\n",
    "    #print(K)\n",
    "    for i in range(n):\n",
    "        for j in range(i+1,n):\n",
    "            K[i][j] = round(random.uniform(a,1-a),2)\n",
    "            #K[i][j] = random.uniform(alpha,1-alpha)\n",
    "            K[j][i]=K[i][j]        \n",
    "    return K\n",
    "     \n",
    "\n",
    "# Generate A\n",
    "def A_adj(K):\n",
    "    n = len(K)\n",
    "    B=np.identity(len(K))\n",
    "    P=np.ones([n,n]) \n",
    "    #print(P)\n",
    "    B= P-B\n",
    "    #print(B)\n",
    "    for i in range(len(B)):\n",
    "        for j in range(i+1,len(B)):\n",
    "            B[i][j] =random.uniform(0,1)\n",
    "            if B[i][j] < K[i][j]:\n",
    "                B[i][j] = 1\n",
    "            else:\n",
    "                B[i][j] = 0\n",
    "            B[j][i] = B[i][j]\n",
    "    A = B\n",
    "    return A\n",
    "\n",
    "# Generate B\n",
    "def B_adj(ro,K,A):\n",
    "    B = np.zeros([len(A),len(A)])\n",
    "    for i in range(len(B)):\n",
    "        for j in range(i+1,len(B)):\n",
    "            B[i][j] =random.uniform(0,1)\n",
    "            if B[i][j] < (1-ro)*K[i][j] + ro*A[i][j]:\n",
    "                B[i][j] = 1\n",
    "            else:\n",
    "                B[i][j] = 0\n",
    "            B[j][i] = B[i][j]\n",
    "    return B\n",
    "    \n",
    "    \n",
    "                \n",
    "            \n",
    "                \n",
    "            \n"
   ]
  },
  {
   "cell_type": "code",
   "execution_count": 3,
   "metadata": {},
   "outputs": [],
   "source": [
    "#Construct a n-degree permutation matrix \n",
    "\n",
    "def permu(N):\n",
    "    E=np.identity(N)\n",
    "    permutation = np.random.permutation(N)\n",
    "    P=np.zeros([N,N]) #initialize the permutation matrix\n",
    "     \n",
    "    for i in range(0,N):\n",
    "        P[i]=E[permutation[i]]\n",
    "    \n",
    "    \n",
    "    return P.astype(int)\n",
    "\n"
   ]
  },
  {
   "cell_type": "code",
   "execution_count": 4,
   "metadata": {},
   "outputs": [],
   "source": [
    "# Generate a random aj matrix for unweighted and undirected graph\n",
    "def generate_aj_matrix(n):\n",
    "    id = np.identity(n)\n",
    "    ones_mat=np.ones((n, n)) \n",
    "    arr = ones_mat - id\n",
    "    #print(arr)\n",
    "    for i in range(n):\n",
    "        for j in range(i+1,n):\n",
    "            arr[i][j] = random.choice([0,1])\n",
    "            arr[j][i] = arr[i][j]\n",
    "    return arr"
   ]
  },
  {
   "cell_type": "code",
   "execution_count": 5,
   "metadata": {},
   "outputs": [
    {
     "name": "stdout",
     "output_type": "stream",
     "text": [
      "A:\n",
      " [[0. 0. 0. 1. 0. 1. 0. 1. 0. 1. 1. 1. 0. 0. 0. 0. 1. 0. 0. 1.]\n",
      " [0. 0. 1. 1. 1. 1. 0. 0. 0. 1. 1. 0. 0. 0. 0. 0. 0. 1. 0. 0.]\n",
      " [0. 1. 0. 0. 1. 1. 0. 0. 0. 0. 0. 0. 1. 1. 1. 0. 1. 1. 0. 1.]\n",
      " [1. 1. 0. 0. 1. 1. 1. 1. 0. 0. 1. 1. 1. 0. 0. 1. 1. 1. 1. 1.]\n",
      " [0. 1. 1. 1. 0. 1. 0. 0. 0. 1. 1. 1. 1. 0. 0. 1. 0. 0. 1. 0.]\n",
      " [1. 1. 1. 1. 1. 0. 0. 0. 0. 1. 0. 1. 0. 0. 0. 0. 1. 1. 0. 0.]\n",
      " [0. 0. 0. 1. 0. 0. 0. 0. 1. 0. 1. 0. 0. 0. 0. 0. 0. 0. 1. 1.]\n",
      " [1. 0. 0. 1. 0. 0. 0. 0. 0. 1. 1. 1. 0. 0. 1. 0. 0. 1. 1. 0.]\n",
      " [0. 0. 0. 0. 0. 0. 1. 0. 0. 0. 0. 0. 0. 1. 1. 0. 0. 1. 0. 1.]\n",
      " [1. 1. 0. 0. 1. 1. 0. 1. 0. 0. 1. 0. 1. 0. 0. 1. 1. 1. 1. 0.]\n",
      " [1. 1. 0. 1. 1. 0. 1. 1. 0. 1. 0. 0. 0. 0. 0. 1. 0. 0. 1. 0.]\n",
      " [1. 0. 0. 1. 1. 1. 0. 1. 0. 0. 0. 0. 1. 1. 1. 0. 1. 0. 1. 0.]\n",
      " [0. 0. 1. 1. 1. 0. 0. 0. 0. 1. 0. 1. 0. 1. 1. 0. 1. 1. 1. 0.]\n",
      " [0. 0. 1. 0. 0. 0. 0. 0. 1. 0. 0. 1. 1. 0. 1. 1. 1. 1. 0. 0.]\n",
      " [0. 0. 1. 0. 0. 0. 0. 1. 1. 0. 0. 1. 1. 1. 0. 1. 1. 0. 1. 0.]\n",
      " [0. 0. 0. 1. 1. 0. 0. 0. 0. 1. 1. 0. 0. 1. 1. 0. 1. 1. 1. 0.]\n",
      " [1. 0. 1. 1. 0. 1. 0. 0. 0. 1. 0. 1. 1. 1. 1. 1. 0. 0. 1. 1.]\n",
      " [0. 1. 1. 1. 0. 1. 0. 1. 1. 1. 0. 0. 1. 1. 0. 1. 0. 0. 1. 0.]\n",
      " [0. 0. 0. 1. 1. 0. 1. 1. 0. 1. 1. 1. 1. 0. 1. 1. 1. 1. 0. 1.]\n",
      " [1. 0. 1. 1. 0. 0. 1. 0. 1. 0. 0. 0. 0. 0. 0. 0. 1. 0. 1. 0.]]\n",
      "P= \n",
      " [[1. 0. 0. 0. 0. 0. 0. 0. 0. 0. 0. 0. 0. 0. 0. 0. 0. 0. 0. 0.]\n",
      " [0. 1. 0. 0. 0. 0. 0. 0. 0. 0. 0. 0. 0. 0. 0. 0. 0. 0. 0. 0.]\n",
      " [0. 0. 1. 0. 0. 0. 0. 0. 0. 0. 0. 0. 0. 0. 0. 0. 0. 0. 0. 0.]\n",
      " [0. 0. 0. 1. 0. 0. 0. 0. 0. 0. 0. 0. 0. 0. 0. 0. 0. 0. 0. 0.]\n",
      " [0. 0. 0. 0. 1. 0. 0. 0. 0. 0. 0. 0. 0. 0. 0. 0. 0. 0. 0. 0.]\n",
      " [0. 0. 0. 0. 0. 1. 0. 0. 0. 0. 0. 0. 0. 0. 0. 0. 0. 0. 0. 0.]\n",
      " [0. 0. 0. 0. 0. 0. 1. 0. 0. 0. 0. 0. 0. 0. 0. 0. 0. 0. 0. 0.]\n",
      " [0. 0. 0. 0. 0. 0. 0. 1. 0. 0. 0. 0. 0. 0. 0. 0. 0. 0. 0. 0.]\n",
      " [0. 0. 0. 0. 0. 0. 0. 0. 1. 0. 0. 0. 0. 0. 0. 0. 0. 0. 0. 0.]\n",
      " [0. 0. 0. 0. 0. 0. 0. 0. 0. 1. 0. 0. 0. 0. 0. 0. 0. 0. 0. 0.]\n",
      " [0. 0. 0. 0. 0. 0. 0. 0. 0. 0. 1. 0. 0. 0. 0. 0. 0. 0. 0. 0.]\n",
      " [0. 0. 0. 0. 0. 0. 0. 0. 0. 0. 0. 1. 0. 0. 0. 0. 0. 0. 0. 0.]\n",
      " [0. 0. 0. 0. 0. 0. 0. 0. 0. 0. 0. 0. 1. 0. 0. 0. 0. 0. 0. 0.]\n",
      " [0. 0. 0. 0. 0. 0. 0. 0. 0. 0. 0. 0. 0. 1. 0. 0. 0. 0. 0. 0.]\n",
      " [0. 0. 0. 0. 0. 0. 0. 0. 0. 0. 0. 0. 0. 0. 1. 0. 0. 0. 0. 0.]\n",
      " [0. 0. 0. 0. 0. 0. 0. 0. 0. 0. 0. 0. 0. 0. 0. 1. 0. 0. 0. 0.]\n",
      " [0. 0. 0. 0. 0. 0. 0. 0. 0. 0. 0. 0. 0. 0. 0. 0. 1. 0. 0. 0.]\n",
      " [0. 0. 0. 0. 0. 0. 0. 0. 0. 0. 0. 0. 0. 0. 0. 0. 0. 1. 0. 0.]\n",
      " [0. 0. 0. 0. 0. 0. 0. 0. 0. 0. 0. 0. 0. 0. 0. 0. 0. 0. 1. 0.]\n",
      " [0. 0. 0. 0. 0. 0. 0. 0. 0. 0. 0. 0. 0. 0. 0. 0. 0. 0. 0. 1.]]\n",
      "B= \n",
      " [[0. 0. 0. 0. 0. 1. 0. 1. 0. 1. 1. 0. 0. 0. 0. 0. 1. 0. 0. 1.]\n",
      " [0. 0. 1. 1. 0. 1. 0. 0. 0. 1. 1. 0. 0. 0. 0. 0. 0. 1. 0. 0.]\n",
      " [0. 1. 0. 0. 1. 1. 0. 0. 0. 0. 1. 0. 1. 1. 1. 0. 1. 0. 0. 1.]\n",
      " [0. 1. 0. 0. 1. 1. 1. 1. 0. 1. 1. 1. 1. 0. 0. 1. 1. 1. 1. 1.]\n",
      " [0. 0. 1. 1. 0. 1. 0. 0. 0. 1. 1. 1. 1. 0. 0. 1. 0. 0. 1. 0.]\n",
      " [1. 1. 1. 1. 1. 0. 0. 0. 0. 1. 0. 1. 0. 0. 0. 0. 1. 0. 0. 0.]\n",
      " [0. 0. 0. 1. 0. 0. 0. 0. 1. 0. 1. 0. 0. 0. 0. 0. 0. 0. 1. 1.]\n",
      " [1. 0. 0. 1. 0. 0. 0. 0. 0. 1. 1. 1. 0. 0. 1. 0. 0. 1. 1. 0.]\n",
      " [0. 0. 0. 0. 0. 0. 1. 0. 0. 1. 0. 0. 0. 1. 1. 0. 0. 0. 0. 1.]\n",
      " [1. 1. 0. 1. 1. 1. 0. 1. 1. 0. 0. 0. 1. 0. 0. 1. 1. 1. 1. 0.]\n",
      " [1. 1. 1. 1. 1. 0. 1. 1. 0. 0. 0. 0. 0. 0. 1. 1. 0. 0. 1. 0.]\n",
      " [0. 0. 0. 1. 1. 1. 0. 1. 0. 0. 0. 0. 1. 1. 1. 1. 1. 0. 1. 0.]\n",
      " [0. 0. 1. 1. 1. 0. 0. 0. 0. 1. 0. 1. 0. 1. 1. 0. 1. 0. 1. 1.]\n",
      " [0. 0. 1. 0. 0. 0. 0. 0. 1. 0. 0. 1. 1. 0. 1. 1. 1. 1. 0. 0.]\n",
      " [0. 0. 1. 0. 0. 0. 0. 1. 1. 0. 1. 1. 1. 1. 0. 1. 1. 0. 1. 0.]\n",
      " [0. 0. 0. 1. 1. 0. 0. 0. 0. 1. 1. 1. 0. 1. 1. 0. 1. 1. 1. 0.]\n",
      " [1. 0. 1. 1. 0. 1. 0. 0. 0. 1. 0. 1. 1. 1. 1. 1. 0. 0. 1. 0.]\n",
      " [0. 1. 0. 1. 0. 0. 0. 1. 0. 1. 0. 0. 0. 1. 0. 1. 0. 0. 1. 0.]\n",
      " [0. 0. 0. 1. 1. 0. 1. 1. 0. 1. 1. 1. 1. 0. 1. 1. 1. 1. 0. 1.]\n",
      " [1. 0. 1. 1. 0. 0. 1. 0. 1. 0. 0. 0. 1. 0. 0. 0. 0. 0. 1. 0.]]\n",
      "original loss: 5.477225575051661\n"
     ]
    }
   ],
   "source": [
    "K= K_Bernoulli(n,a)\n",
    "A = A_adj(K)\n",
    "B_ori = B_adj(ro,K,A)\n",
    "print(\"A:\\n\",A)\n",
    "P_1 = np.identity(n)\n",
    "print(\"P= \\n\",P_1)\n",
    "B = np.matmul(P_1.T, np.matmul(B_ori,P_1))\n",
    "print(\"B= \\n\",B)\n",
    "\n",
    "print(\"original loss:\",LA.norm(A@P_1-P_1@B,\"fro\"))"
   ]
  },
  {
   "cell_type": "code",
   "execution_count": null,
   "metadata": {},
   "outputs": [],
   "source": []
  },
  {
   "cell_type": "code",
   "execution_count": 6,
   "metadata": {},
   "outputs": [],
   "source": [
    "def ret_permu_result(l,n):\n",
    "    ret = np.zeros((n, n))\n",
    "    for i in range(n):\n",
    "        ret[i][l[i]] = 1\n",
    "    #print(ret)\n",
    "    return ret"
   ]
  },
  {
   "cell_type": "code",
   "execution_count": 7,
   "metadata": {},
   "outputs": [],
   "source": [
    "\n",
    "\n",
    "one_arr = np.ones((n, 1))\n",
    "initial = one_arr@one_arr.T / n"
   ]
  },
  {
   "cell_type": "code",
   "execution_count": null,
   "metadata": {},
   "outputs": [],
   "source": []
  },
  {
   "cell_type": "code",
   "execution_count": null,
   "metadata": {},
   "outputs": [],
   "source": []
  },
  {
   "cell_type": "code",
   "execution_count": 8,
   "metadata": {},
   "outputs": [],
   "source": [
    "def FAQ(n,A,B,initial,eps,loop,num_loop,err,P_1):\n",
    "    loop += 1\n",
    "    \n",
    "    gradient = 2*A.T@A@initial - 2*(A.T@initial@B + A@initial@B.T) +2*initial@B@B.T\n",
    "    \n",
    "        \n",
    "    # Dropping terms independent of P\n",
    "    x,y,c = lapjv(gradient)\n",
    "    index_list = y\n",
    "    Q = ret_permu_result(index_list,n)\n",
    "    \n",
    "    # Find alpha\n",
    "    alpha = cp.Variable(1)\n",
    "    #print(alpha.shape)(1-alpha)*\n",
    "    P = (1-alpha)*initial+ alpha * Q\n",
    "    objective = cp.Minimize((cp.norm(A@P-P@B, 'fro'))**2)\n",
    "    constraints = [0<= alpha, alpha<= 1]\n",
    "    prob = cp.Problem(objective, constraints)\n",
    "    prob.solve()\n",
    "    \n",
    "    P_new = (1-alpha.value[0])*initial + alpha.value[0]*Q\n",
    "    error_compare = (LA.norm(A@P_new-P_new@B,\"fro\"))/(LA.norm(A,\"fro\"))\n",
    "    err.append(error_compare)\n",
    "    \n",
    "    if loop>num_loop:\n",
    "        \n",
    "        e,r,t = lapjv(-P_new.T)\n",
    "        \n",
    "        P_result = ret_permu_result(r,n).T\n",
    "        return [P_new,P_result,loop,err]\n",
    "\n",
    "    if LA.norm(P_new-initial, 'fro') < eps:\n",
    "        \n",
    "        e,r,t = lapjv(-P_new.T)\n",
    "        \n",
    "        P_result = ret_permu_result(r,n).T\n",
    "        \n",
    "        return [P_new,P_result,loop,err]\n",
    "    else:\n",
    "        return FAQ(n,A,B,P_new,eps,loop,num_loop,err,P_1) \n",
    "    "
   ]
  },
  {
   "cell_type": "code",
   "execution_count": 9,
   "metadata": {},
   "outputs": [],
   "source": [
    "\n",
    "\n",
    "result = FAQ(n,A,B,initial,10**(-9),0,num_loop,[],P_1)\n"
   ]
  },
  {
   "cell_type": "code",
   "execution_count": null,
   "metadata": {},
   "outputs": [],
   "source": []
  },
  {
   "cell_type": "code",
   "execution_count": 10,
   "metadata": {},
   "outputs": [],
   "source": [
    "n=10\n",
    "one_arr = np.ones((n, 1))\n",
    "initial = one_arr@one_arr.T / n"
   ]
  },
  {
   "cell_type": "code",
   "execution_count": 11,
   "metadata": {},
   "outputs": [
    {
     "name": "stdout",
     "output_type": "stream",
     "text": [
      "[[0.   0.5  0.76 0.78 0.66 0.58 0.2  0.47 0.57 0.38]\n",
      " [0.5  0.   0.3  0.49 0.25 0.76 0.71 0.77 0.74 0.79]\n",
      " [0.76 0.3  0.   0.55 0.36 0.63 0.8  0.6  0.28 0.64]\n",
      " [0.78 0.49 0.55 0.   0.27 0.25 0.5  0.37 0.3  0.75]\n",
      " [0.66 0.25 0.36 0.27 0.   0.27 0.56 0.33 0.67 0.63]\n",
      " [0.58 0.76 0.63 0.25 0.27 0.   0.37 0.44 0.49 0.54]\n",
      " [0.2  0.71 0.8  0.5  0.56 0.37 0.   0.45 0.73 0.58]\n",
      " [0.47 0.77 0.6  0.37 0.33 0.44 0.45 0.   0.48 0.66]\n",
      " [0.57 0.74 0.28 0.3  0.67 0.49 0.73 0.48 0.   0.5 ]\n",
      " [0.38 0.79 0.64 0.75 0.63 0.54 0.58 0.66 0.5  0.  ]]\n"
     ]
    }
   ],
   "source": [
    "\n",
    "K= K_Bernoulli(n,a)\n",
    "print(K)\n",
    "A = A_adj(K)\n",
    "B_ori = B_adj(ro,K,A)\n",
    "P_1 = np.identity(n)\n",
    "B = np.matmul(P_1.T, np.matmul(B_ori,P_1))\n"
   ]
  },
  {
   "cell_type": "code",
   "execution_count": 12,
   "metadata": {},
   "outputs": [],
   "source": [
    "result_2 = FAQ(n,A,B,initial,10**(-9),0,num_loop,[],P_1)\n",
    "loop_2 = result_2[2]\n",
    "error_list_2 = result_2[3]\n"
   ]
  },
  {
   "cell_type": "code",
   "execution_count": null,
   "metadata": {},
   "outputs": [],
   "source": []
  },
  {
   "cell_type": "code",
   "execution_count": null,
   "metadata": {},
   "outputs": [],
   "source": []
  },
  {
   "cell_type": "code",
   "execution_count": 13,
   "metadata": {},
   "outputs": [],
   "source": [
    "n=20\n",
    "one_arr = np.ones((n, 1))\n",
    "initial = one_arr@one_arr.T / n\n",
    "K= K_Bernoulli(n,a)\n",
    "A = A_adj(K)\n",
    "B_ori = B_adj(ro,K,A)\n",
    "P_1 = np.identity(n)\n",
    "B = np.matmul(P_1.T, np.matmul(B_ori,P_1))\n",
    "result_3 = FAQ(n,A,B,initial,10**(-9),0,num_loop,[],P_1)\n",
    "loop_3 = result_3[2]\n",
    "error_list_3 = result_3[3]\n",
    "\n"
   ]
  },
  {
   "cell_type": "code",
   "execution_count": null,
   "metadata": {},
   "outputs": [],
   "source": []
  },
  {
   "cell_type": "code",
   "execution_count": 14,
   "metadata": {},
   "outputs": [],
   "source": [
    "n=30\n",
    "one_arr = np.ones((n, 1))\n",
    "initial = one_arr@one_arr.T / n\n",
    "K= K_Bernoulli(n,a)\n",
    "A = A_adj(K)\n",
    "B_ori = B_adj(ro,K,A)\n",
    "P_1 = np.identity(n)\n",
    "B = np.matmul(P_1.T, np.matmul(B_ori,P_1))\n",
    "result_4 = FAQ(n,A,B,initial,10**(-9),0,num_loop,[],P_1)\n",
    "loop_4 = result_4[2]\n",
    "error_list_4 = result_4[3]\n",
    "\n"
   ]
  },
  {
   "cell_type": "code",
   "execution_count": 20,
   "metadata": {},
   "outputs": [],
   "source": [
    "error_list = result[3]\n",
    "L = [i for i in range(1,result[2]+1)]\n",
    "L_2 = [i for i in range(1,loop_2+1)]\n",
    "L_3 = [i for i in range(1,loop_3+1)]\n",
    "L_4 = [i for i in range(1,loop_4+1)]"
   ]
  },
  {
   "cell_type": "code",
   "execution_count": 22,
   "metadata": {},
   "outputs": [
    {
     "data": {
      "text/plain": [
       "<matplotlib.legend.Legend at 0x1341eae80>"
      ]
     },
     "execution_count": 22,
     "metadata": {},
     "output_type": "execute_result"
    },
    {
     "data": {
      "image/png": "[encoded data removed]",
      "text/plain": [
       "<Figure size 432x288 with 1 Axes>"
      ]
     },
     "metadata": {
      "needs_background": "light"
     },
     "output_type": "display_data"
    }
   ],
   "source": [
    "\n",
    "plt.plot(L_2, error_list_2,label=\"n=10\")\n",
    "plt.plot(L_3, error_list_3,label=\"n=20\")\n",
    "plt.plot(L_4, error_list_4,label=\"n=30\")\n",
    "plt.plot(L, error_list,label=\"n=40\")\n",
    "\n",
    "\n",
    "plt.xlabel(r'Number of Loops')\n",
    "plt.ylabel('Error Percent')\n",
    "plt.grid()\n",
    "plt.legend()\n"
   ]
  },
  {
   "cell_type": "code",
   "execution_count": null,
   "metadata": {},
   "outputs": [],
   "source": []
  },
  {
   "cell_type": "code",
   "execution_count": null,
   "metadata": {},
   "outputs": [],
   "source": []
  }
 ],
 "metadata": {
  "kernelspec": {
   "display_name": "Python 3",
   "language": "python",
   "name": "python3"
  },
  "language_info": {
   "codemirror_mode": {
    "name": "ipython",
    "version": 3
   },
   "file_extension": ".py",
   "mimetype": "text/x-python",
   "name": "python",
   "nbconvert_exporter": "python",
   "pygments_lexer": "ipython3",
   "version": "3.8.3"
  }
 },
 "nbformat": 4,
 "nbformat_minor": 4
}
