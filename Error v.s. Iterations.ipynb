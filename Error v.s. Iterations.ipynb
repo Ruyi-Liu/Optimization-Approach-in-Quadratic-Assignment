{
 "cells": [
  {
   "cell_type": "code",
   "execution_count": 1,
   "metadata": {},
   "outputs": [
    {
     "name": "stdout",
     "output_type": "stream",
     "text": [
      "3000\n"
     ]
    }
   ],
   "source": [
    "import numpy as np\n",
    "import networkx as nx\n",
    "import matplotlib.pyplot as plt\n",
    "import random\n",
    "import cvxpy as cp\n",
    "from numpy import linalg as LA\n",
    "import pprint\n",
    "from lap import lapjv\n",
    "import copy\n",
    "import sys\n",
    "\n",
    "print(sys.getrecursionlimit())\n",
    "sys.setrecursionlimit(50000)\n",
    "\n",
    "n=40\n",
    "ro = 0.8\n",
    "a = 0.2\n",
    "# we have that (1-alpha)(1-ro) < 1/2 satisfy condition in part a and part b \n",
    "\n",
    "num_loop = 3000\n"
   ]
  },
  {
   "cell_type": "code",
   "execution_count": 2,
   "metadata": {},
   "outputs": [],
   "source": [
    "# Construct K\n",
    "def K_Bernoulli(n,a):\n",
    "    np.random.seed(3)\n",
    "    K=np.identity(n)\n",
    "    P=np.ones([n,n]) \n",
    "    K = P-K\n",
    "    #print(K)\n",
    "    for i in range(n):\n",
    "        for j in range(i+1,n):\n",
    "            K[i][j] = round(random.uniform(a,1-a),2)\n",
    "            #K[i][j] = random.uniform(alpha,1-alpha)\n",
    "            K[j][i]=K[i][j]        \n",
    "    return K\n",
    "     \n",
    "\n",
    "# Generate A\n",
    "def A_adj(K):\n",
    "    n = len(K)\n",
    "    B=np.identity(len(K))\n",
    "    P=np.ones([n,n]) \n",
    "    #print(P)\n",
    "    B= P-B\n",
    "    #print(B)\n",
    "    for i in range(len(B)):\n",
    "        for j in range(i+1,len(B)):\n",
    "            B[i][j] =random.uniform(0,1)\n",
    "            if B[i][j] < K[i][j]:\n",
    "                B[i][j] = 1\n",
    "            else:\n",
    "                B[i][j] = 0\n",
    "            B[j][i] = B[i][j]\n",
    "    A = B\n",
    "    return A\n",
    "\n",
    "# Generate B\n",
    "def B_adj(ro,K,A):\n",
    "    B = np.zeros([len(A),len(A)])\n",
    "    for i in range(len(B)):\n",
    "        for j in range(i+1,len(B)):\n",
    "            B[i][j] =random.uniform(0,1)\n",
    "            if B[i][j] < (1-ro)*K[i][j] + ro*A[i][j]:\n",
    "                B[i][j] = 1\n",
    "            else:\n",
    "                B[i][j] = 0\n",
    "            B[j][i] = B[i][j]\n",
    "    return B\n",
    "    \n",
    "    \n",
    "                \n",
    "            \n",
    "                \n",
    "            \n"
   ]
  },
  {
   "cell_type": "code",
   "execution_count": 3,
   "metadata": {},
   "outputs": [],
   "source": [
    "#Construct a n-degree permutation matrix \n",
    "\n",
    "def permu(N):\n",
    "    E=np.identity(N)\n",
    "    permutation = np.random.permutation(N)\n",
    "    P=np.zeros([N,N]) #initialize the permutation matrix\n",
    "     \n",
    "    for i in range(0,N):\n",
    "        P[i]=E[permutation[i]]\n",
    "    \n",
    "    \n",
    "    return P.astype(int)\n",
    "\n"
   ]
  },
  {
   "cell_type": "code",
   "execution_count": 4,
   "metadata": {},
   "outputs": [],
   "source": [
    "# Generate a random aj matrix for unweighted and undirected graph\n",
    "def generate_aj_matrix(n):\n",
    "    id = np.identity(n)\n",
    "    ones_mat=np.ones((n, n)) \n",
    "    arr = ones_mat - id\n",
    "    #print(arr)\n",
    "    for i in range(n):\n",
    "        for j in range(i+1,n):\n",
    "            arr[i][j] = random.choice([0,1])\n",
    "            arr[j][i] = arr[i][j]\n",
    "    return arr"
   ]
  },
  {
   "cell_type": "code",
   "execution_count": 5,
   "metadata": {},
   "outputs": [
    {
     "name": "stdout",
     "output_type": "stream",
     "text": [
      "A:\n",
      " [[0. 0. 0. ... 0. 1. 0.]\n",
      " [0. 0. 0. ... 1. 0. 1.]\n",
      " [0. 0. 0. ... 0. 0. 1.]\n",
      " ...\n",
      " [0. 1. 0. ... 0. 1. 1.]\n",
      " [1. 0. 0. ... 1. 0. 1.]\n",
      " [0. 1. 1. ... 1. 1. 0.]]\n",
      "P= \n",
      " [[1. 0. 0. ... 0. 0. 0.]\n",
      " [0. 1. 0. ... 0. 0. 0.]\n",
      " [0. 0. 1. ... 0. 0. 0.]\n",
      " ...\n",
      " [0. 0. 0. ... 1. 0. 0.]\n",
      " [0. 0. 0. ... 0. 1. 0.]\n",
      " [0. 0. 0. ... 0. 0. 1.]]\n",
      "B= \n",
      " [[0. 0. 0. ... 0. 1. 0.]\n",
      " [0. 0. 0. ... 1. 0. 1.]\n",
      " [0. 0. 0. ... 0. 0. 1.]\n",
      " ...\n",
      " [0. 1. 0. ... 0. 1. 1.]\n",
      " [1. 0. 0. ... 1. 0. 1.]\n",
      " [0. 1. 1. ... 1. 1. 0.]]\n",
      "original loss: 10.198039027185569\n"
     ]
    }
   ],
   "source": [
    "K= K_Bernoulli(n,a)\n",
    "A = A_adj(K)\n",
    "B_ori = B_adj(ro,K,A)\n",
    "print(\"A:\\n\",A)\n",
    "P_1 = np.identity(n)\n",
    "print(\"P= \\n\",P_1)\n",
    "B = np.matmul(P_1.T, np.matmul(B_ori,P_1))\n",
    "print(\"B= \\n\",B)\n",
    "\n",
    "print(\"original loss:\",LA.norm(A@P_1-P_1@B,\"fro\"))"
   ]
  },
  {
   "cell_type": "code",
   "execution_count": null,
   "metadata": {},
   "outputs": [],
   "source": []
  },
  {
   "cell_type": "code",
   "execution_count": 6,
   "metadata": {},
   "outputs": [],
   "source": [
    "def ret_permu_result(l,n):\n",
    "    ret = np.zeros((n, n))\n",
    "    for i in range(n):\n",
    "        ret[i][l[i]] = 1\n",
    "    #print(ret)\n",
    "    return ret"
   ]
  },
  {
   "cell_type": "code",
   "execution_count": 7,
   "metadata": {},
   "outputs": [],
   "source": [
    "\n",
    "\n",
    "one_arr = np.ones((n, 1))\n",
    "initial = one_arr@one_arr.T / n"
   ]
  },
  {
   "cell_type": "code",
   "execution_count": null,
   "metadata": {},
   "outputs": [],
   "source": []
  },
  {
   "cell_type": "code",
   "execution_count": null,
   "metadata": {},
   "outputs": [],
   "source": []
  },
  {
   "cell_type": "code",
   "execution_count": 8,
   "metadata": {},
   "outputs": [],
   "source": [
    "def FAQ(n,A,B,initial,eps,loop,num_loop,err,P_1):\n",
    "    loop += 1\n",
    "    \n",
    "    gradient = 2*A.T@A@initial - 2*(A.T@initial@B + A@initial@B.T) +2*initial@B@B.T\n",
    "    \n",
    "        \n",
    "    # Dropping terms independent of P\n",
    "    x,y,c = lapjv(gradient)\n",
    "    index_list = y\n",
    "    Q = ret_permu_result(index_list,n)\n",
    "    \n",
    "    # Find alpha\n",
    "    alpha = cp.Variable(1)\n",
    "    #print(alpha.shape)(1-alpha)*\n",
    "    P = (1-alpha)*initial+ alpha * Q\n",
    "    objective = cp.Minimize((cp.norm(A@P-P@B, 'fro'))**2)\n",
    "    constraints = [0<= alpha, alpha<= 1]\n",
    "    prob = cp.Problem(objective, constraints)\n",
    "    prob.solve()\n",
    "    #print(alpha.value)\n",
    "    #print(type(alpha.value[0]))\n",
    "    \n",
    "    # Update P ((1-alpha.value[0])*)\n",
    "    P_new = (1-alpha.value[0])*initial + alpha.value[0]*Q\n",
    "    error_compare = (LA.norm(A@P_new-P_new@B,\"fro\"))/(LA.norm(A,\"fro\"))\n",
    "    err.append(error_compare)\n",
    "    \n",
    "    if loop>num_loop:\n",
    "        # Projection\n",
    "        e,r,t = lapjv(-P_new.T)\n",
    "        #print(r)\n",
    "        P_result = ret_permu_result(r,n).T\n",
    "        return [P_new,P_result,loop,err]\n",
    "\n",
    "    if LA.norm(P_new-initial, 'fro') < eps:\n",
    "        # Projection\n",
    "        e,r,t = lapjv(-P_new.T)\n",
    "        #print(r)\n",
    "        P_result = ret_permu_result(r,n).T\n",
    "        #return P_result\n",
    "        return [P_new,P_result,loop,err]\n",
    "    else:\n",
    "        return FAQ(n,A,B,P_new,eps,loop,num_loop,err,P_1) \n",
    "    #print(P_new)"
   ]
  },
  {
   "cell_type": "code",
   "execution_count": null,
   "metadata": {},
   "outputs": [
    {
     "name": "stderr",
     "output_type": "stream",
     "text": [
      "ERROR:root:Internal Python error in the inspect module.\n",
      "Below is the traceback from this internal error.\n",
      "\n"
     ]
    },
    {
     "name": "stdout",
     "output_type": "stream",
     "text": [
      "Traceback (most recent call last):\n",
      "  File \"/opt/anaconda3/lib/python3.8/site-packages/IPython/core/interactiveshell.py\", line 3343, in run_code\n",
      "    exec(code_obj, self.user_global_ns, self.user_ns)\n",
      "  File \"<ipython-input-9-e272a61ee7fe>\", line 1, in <module>\n",
      "    result = FAQ(n,A,B,initial,10**(-9),0,num_loop,[],P_1)\n",
      "  File \"<ipython-input-8-73fd402d498c>\", line 43, in FAQ\n",
      "    return FAQ(n,A,B,P_new,eps,loop,num_loop,err,P_1)\n",
      "  File \"<ipython-input-8-73fd402d498c>\", line 43, in FAQ\n",
      "    return FAQ(n,A,B,P_new,eps,loop,num_loop,err,P_1)\n",
      "  File \"<ipython-input-8-73fd402d498c>\", line 43, in FAQ\n",
      "    return FAQ(n,A,B,P_new,eps,loop,num_loop,err,P_1)\n",
      "  [Previous line repeated 2644 more times]\n",
      "  File \"<ipython-input-8-73fd402d498c>\", line 19, in FAQ\n",
      "    prob.solve()\n",
      "  File \"/opt/anaconda3/lib/python3.8/site-packages/cvxpy/problems/problem.py\", line 401, in solve\n",
      "    return solve_func(self, *args, **kwargs)\n",
      "  File \"/opt/anaconda3/lib/python3.8/site-packages/cvxpy/problems/problem.py\", line 815, in _solve\n",
      "    data, solving_chain, inverse_data = self.get_problem_data(\n",
      "  File \"/opt/anaconda3/lib/python3.8/site-packages/cvxpy/problems/problem.py\", line 530, in get_problem_data\n",
      "    data, inverse_data = solving_chain.apply(self)\n",
      "  File \"/opt/anaconda3/lib/python3.8/site-packages/cvxpy/reductions/chain.py\", line 71, in apply\n",
      "    problem, inv = r.apply(problem)\n",
      "  File \"/opt/anaconda3/lib/python3.8/site-packages/cvxpy/reductions/solvers/conic_solvers/ecos_conif.py\", line 102, in apply\n",
      "    problem = self.format_constraints(problem, self.EXP_CONE_ORDER)\n",
      "  File \"/opt/anaconda3/lib/python3.8/site-packages/cvxpy/reductions/solvers/conic_solvers/conic_solver.py\", line 228, in format_constraints\n",
      "    reshaped_A = problem.A.reshape(restruct_mat.shape[1],\n",
      "  File \"/opt/anaconda3/lib/python3.8/site-packages/scipy/sparse/base.py\", line 127, in reshape\n",
      "    return self.tocoo(copy=copy).reshape(shape, order=order, copy=False)\n",
      "  File \"/opt/anaconda3/lib/python3.8/site-packages/scipy/sparse/coo.py\", line 234, in reshape\n",
      "    return coo_matrix((new_data, (new_row, new_col)),\n",
      "  File \"/opt/anaconda3/lib/python3.8/site-packages/scipy/sparse/coo.py\", line 196, in __init__\n",
      "    self._check()\n",
      "  File \"/opt/anaconda3/lib/python3.8/site-packages/scipy/sparse/coo.py\", line 284, in _check\n",
      "    if self.col.max() >= self.shape[1]:\n",
      "  File \"/opt/anaconda3/lib/python3.8/site-packages/numpy/core/_methods.py\", line 30, in _amax\n",
      "    return umr_maximum(a, axis, None, out, keepdims, initial, where)\n",
      "KeyboardInterrupt\n",
      "\n",
      "During handling of the above exception, another exception occurred:\n",
      "\n",
      "Traceback (most recent call last):\n",
      "  File \"/opt/anaconda3/lib/python3.8/site-packages/IPython/core/interactiveshell.py\", line 2044, in showtraceback\n",
      "    stb = value._render_traceback_()\n",
      "AttributeError: 'KeyboardInterrupt' object has no attribute '_render_traceback_'\n",
      "\n",
      "During handling of the above exception, another exception occurred:\n",
      "\n",
      "Traceback (most recent call last):\n",
      "  File \"/opt/anaconda3/lib/python3.8/site-packages/IPython/core/ultratb.py\", line 1169, in get_records\n",
      "    return _fixed_getinnerframes(etb, number_of_lines_of_context, tb_offset)\n",
      "  File \"/opt/anaconda3/lib/python3.8/site-packages/IPython/core/ultratb.py\", line 316, in wrapped\n",
      "    return f(*args, **kwargs)\n",
      "  File \"/opt/anaconda3/lib/python3.8/site-packages/IPython/core/ultratb.py\", line 350, in _fixed_getinnerframes\n",
      "    records = fix_frame_records_filenames(inspect.getinnerframes(etb, context))\n",
      "  File \"/opt/anaconda3/lib/python3.8/inspect.py\", line 1503, in getinnerframes\n",
      "    frameinfo = (tb.tb_frame,) + getframeinfo(tb, context)\n",
      "  File \"/opt/anaconda3/lib/python3.8/inspect.py\", line 1461, in getframeinfo\n",
      "    filename = getsourcefile(frame) or getfile(frame)\n",
      "  File \"/opt/anaconda3/lib/python3.8/inspect.py\", line 708, in getsourcefile\n",
      "    if getattr(getmodule(object, filename), '__loader__', None) is not None:\n",
      "  File \"/opt/anaconda3/lib/python3.8/inspect.py\", line 745, in getmodule\n",
      "    if ismodule(module) and hasattr(module, '__file__'):\n",
      "KeyboardInterrupt\n"
     ]
    },
    {
     "name": "stderr",
     "output_type": "stream",
     "text": [
      "ERROR:root:Internal Python error in the inspect module.\n",
      "Below is the traceback from this internal error.\n",
      "\n"
     ]
    },
    {
     "name": "stdout",
     "output_type": "stream",
     "text": [
      "Traceback (most recent call last):\n",
      "  File \"/opt/anaconda3/lib/python3.8/site-packages/IPython/core/interactiveshell.py\", line 3343, in run_code\n",
      "    exec(code_obj, self.user_global_ns, self.user_ns)\n",
      "  File \"<ipython-input-9-e272a61ee7fe>\", line 1, in <module>\n",
      "    result = FAQ(n,A,B,initial,10**(-9),0,num_loop,[],P_1)\n",
      "  File \"<ipython-input-8-73fd402d498c>\", line 43, in FAQ\n",
      "    return FAQ(n,A,B,P_new,eps,loop,num_loop,err,P_1)\n",
      "  File \"<ipython-input-8-73fd402d498c>\", line 43, in FAQ\n",
      "    return FAQ(n,A,B,P_new,eps,loop,num_loop,err,P_1)\n",
      "  File \"<ipython-input-8-73fd402d498c>\", line 43, in FAQ\n",
      "    return FAQ(n,A,B,P_new,eps,loop,num_loop,err,P_1)\n",
      "  [Previous line repeated 2644 more times]\n",
      "  File \"<ipython-input-8-73fd402d498c>\", line 19, in FAQ\n",
      "    prob.solve()\n",
      "  File \"/opt/anaconda3/lib/python3.8/site-packages/cvxpy/problems/problem.py\", line 401, in solve\n",
      "    return solve_func(self, *args, **kwargs)\n",
      "  File \"/opt/anaconda3/lib/python3.8/site-packages/cvxpy/problems/problem.py\", line 815, in _solve\n",
      "    data, solving_chain, inverse_data = self.get_problem_data(\n",
      "  File \"/opt/anaconda3/lib/python3.8/site-packages/cvxpy/problems/problem.py\", line 530, in get_problem_data\n",
      "    data, inverse_data = solving_chain.apply(self)\n",
      "  File \"/opt/anaconda3/lib/python3.8/site-packages/cvxpy/reductions/chain.py\", line 71, in apply\n",
      "    problem, inv = r.apply(problem)\n",
      "  File \"/opt/anaconda3/lib/python3.8/site-packages/cvxpy/reductions/solvers/conic_solvers/ecos_conif.py\", line 102, in apply\n",
      "    problem = self.format_constraints(problem, self.EXP_CONE_ORDER)\n",
      "  File \"/opt/anaconda3/lib/python3.8/site-packages/cvxpy/reductions/solvers/conic_solvers/conic_solver.py\", line 228, in format_constraints\n",
      "    reshaped_A = problem.A.reshape(restruct_mat.shape[1],\n",
      "  File \"/opt/anaconda3/lib/python3.8/site-packages/scipy/sparse/base.py\", line 127, in reshape\n",
      "    return self.tocoo(copy=copy).reshape(shape, order=order, copy=False)\n",
      "  File \"/opt/anaconda3/lib/python3.8/site-packages/scipy/sparse/coo.py\", line 234, in reshape\n",
      "    return coo_matrix((new_data, (new_row, new_col)),\n",
      "  File \"/opt/anaconda3/lib/python3.8/site-packages/scipy/sparse/coo.py\", line 196, in __init__\n",
      "    self._check()\n",
      "  File \"/opt/anaconda3/lib/python3.8/site-packages/scipy/sparse/coo.py\", line 284, in _check\n",
      "    if self.col.max() >= self.shape[1]:\n",
      "  File \"/opt/anaconda3/lib/python3.8/site-packages/numpy/core/_methods.py\", line 30, in _amax\n",
      "    return umr_maximum(a, axis, None, out, keepdims, initial, where)\n",
      "KeyboardInterrupt\n",
      "\n",
      "During handling of the above exception, another exception occurred:\n",
      "\n",
      "Traceback (most recent call last):\n",
      "  File \"/opt/anaconda3/lib/python3.8/site-packages/IPython/core/interactiveshell.py\", line 2044, in showtraceback\n",
      "    stb = value._render_traceback_()\n",
      "AttributeError: 'KeyboardInterrupt' object has no attribute '_render_traceback_'\n",
      "\n",
      "During handling of the above exception, another exception occurred:\n",
      "\n",
      "Traceback (most recent call last):\n",
      "  File \"/opt/anaconda3/lib/python3.8/site-packages/IPython/core/interactiveshell.py\", line 3263, in run_ast_nodes\n",
      "    if (await self.run_code(code, result,  async_=asy)):\n",
      "  File \"/opt/anaconda3/lib/python3.8/site-packages/IPython/core/interactiveshell.py\", line 3360, in run_code\n",
      "    self.showtraceback(running_compiled_code=True)\n",
      "  File \"/opt/anaconda3/lib/python3.8/site-packages/IPython/core/interactiveshell.py\", line 2046, in showtraceback\n",
      "    stb = self.InteractiveTB.structured_traceback(etype,\n",
      "  File \"/opt/anaconda3/lib/python3.8/site-packages/IPython/core/ultratb.py\", line 1435, in structured_traceback\n",
      "    return FormattedTB.structured_traceback(\n",
      "  File \"/opt/anaconda3/lib/python3.8/site-packages/IPython/core/ultratb.py\", line 1335, in structured_traceback\n",
      "    return VerboseTB.structured_traceback(\n",
      "  File \"/opt/anaconda3/lib/python3.8/site-packages/IPython/core/ultratb.py\", line 1192, in structured_traceback\n",
      "    formatted_exception = self.format_exception_as_a_whole(etype, evalue, etb, number_of_lines_of_context,\n",
      "  File \"/opt/anaconda3/lib/python3.8/site-packages/IPython/core/ultratb.py\", line 1150, in format_exception_as_a_whole\n",
      "    last_unique, recursion_repeat = find_recursion(orig_etype, evalue, records)\n",
      "  File \"/opt/anaconda3/lib/python3.8/site-packages/IPython/core/ultratb.py\", line 451, in find_recursion\n",
      "    return len(records), 0\n",
      "TypeError: object of type 'NoneType' has no len()\n",
      "\n",
      "During handling of the above exception, another exception occurred:\n",
      "\n",
      "Traceback (most recent call last):\n",
      "  File \"/opt/anaconda3/lib/python3.8/site-packages/IPython/core/interactiveshell.py\", line 2044, in showtraceback\n",
      "    stb = value._render_traceback_()\n",
      "AttributeError: 'TypeError' object has no attribute '_render_traceback_'\n",
      "\n",
      "During handling of the above exception, another exception occurred:\n",
      "\n",
      "Traceback (most recent call last):\n",
      "  File \"/opt/anaconda3/lib/python3.8/site-packages/IPython/core/ultratb.py\", line 1169, in get_records\n",
      "    return _fixed_getinnerframes(etb, number_of_lines_of_context, tb_offset)\n",
      "  File \"/opt/anaconda3/lib/python3.8/site-packages/IPython/core/ultratb.py\", line 316, in wrapped\n",
      "    return f(*args, **kwargs)\n",
      "  File \"/opt/anaconda3/lib/python3.8/site-packages/IPython/core/ultratb.py\", line 350, in _fixed_getinnerframes\n",
      "    records = fix_frame_records_filenames(inspect.getinnerframes(etb, context))\n",
      "  File \"/opt/anaconda3/lib/python3.8/inspect.py\", line 1503, in getinnerframes\n",
      "    frameinfo = (tb.tb_frame,) + getframeinfo(tb, context)\n",
      "  File \"/opt/anaconda3/lib/python3.8/inspect.py\", line 1465, in getframeinfo\n",
      "    lines, lnum = findsource(frame)\n",
      "  File \"/opt/anaconda3/lib/python3.8/site-packages/IPython/core/ultratb.py\", line 170, in findsource\n",
      "    file = getsourcefile(object) or getfile(object)\n",
      "  File \"/opt/anaconda3/lib/python3.8/inspect.py\", line 708, in getsourcefile\n",
      "    if getattr(getmodule(object, filename), '__loader__', None) is not None:\n",
      "  File \"/opt/anaconda3/lib/python3.8/inspect.py\", line 747, in getmodule\n",
      "    if f == _filesbymodname.get(modname, None):\n",
      "KeyboardInterrupt\n"
     ]
    }
   ],
   "source": [
    "\n",
    "\n",
    "result = FAQ(n,A,B,initial,10**(-9),0,num_loop,[],P_1)\n"
   ]
  },
  {
   "cell_type": "code",
   "execution_count": null,
   "metadata": {},
   "outputs": [],
   "source": []
  },
  {
   "cell_type": "code",
   "execution_count": null,
   "metadata": {},
   "outputs": [],
   "source": []
  },
  {
   "cell_type": "code",
   "execution_count": null,
   "metadata": {},
   "outputs": [],
   "source": [
    "\n"
   ]
  },
  {
   "cell_type": "code",
   "execution_count": null,
   "metadata": {},
   "outputs": [],
   "source": []
  },
  {
   "cell_type": "code",
   "execution_count": null,
   "metadata": {},
   "outputs": [],
   "source": [
    "#L = np.linspace(1,loop)\n",
    "L = [i for i in range(1,loop+1)]\n",
    "print(len(L))\n"
   ]
  },
  {
   "cell_type": "code",
   "execution_count": null,
   "metadata": {},
   "outputs": [],
   "source": [
    "n=10\n",
    "one_arr = np.ones((n, 1))\n",
    "initial = one_arr@one_arr.T / n"
   ]
  },
  {
   "cell_type": "code",
   "execution_count": null,
   "metadata": {},
   "outputs": [],
   "source": [
    "\n",
    "K= K_Bernoulli(n,a)\n",
    "print(K)\n",
    "A = A_adj(K)\n",
    "B_ori = B_adj(ro,K,A)\n",
    "P_1 = np.identity(n)\n",
    "B = np.matmul(P_1.T, np.matmul(B_ori,P_1))\n"
   ]
  },
  {
   "cell_type": "code",
   "execution_count": null,
   "metadata": {},
   "outputs": [],
   "source": [
    "result_2 = FAQ(n,A,B,initial,10**(-9),0,num_loop,[],P_1)\n",
    "loop_2 = result_2[2]\n",
    "error_list_2 = result_2[3]\n",
    "L_2 = [i for i in range(1,loop_2+1)]"
   ]
  },
  {
   "cell_type": "code",
   "execution_count": null,
   "metadata": {},
   "outputs": [],
   "source": []
  },
  {
   "cell_type": "code",
   "execution_count": null,
   "metadata": {},
   "outputs": [],
   "source": []
  },
  {
   "cell_type": "code",
   "execution_count": null,
   "metadata": {},
   "outputs": [],
   "source": [
    "n=20\n",
    "one_arr = np.ones((n, 1))\n",
    "initial = one_arr@one_arr.T / n\n",
    "K= K_Bernoulli(n,a)\n",
    "A = A_adj(K)\n",
    "B_ori = B_adj(ro,K,A)\n",
    "P_1 = np.identity(n)\n",
    "B = np.matmul(P_1.T, np.matmul(B_ori,P_1))\n",
    "result_3 = FAQ(n,A,B,initial,10**(-9),0,num_loop,[],P_1)\n",
    "loop_3 = result_3[2]\n",
    "error_list_3 = result_3[3]\n",
    "L_3 = [i for i in range(1,loop_3+1)]\n"
   ]
  },
  {
   "cell_type": "code",
   "execution_count": null,
   "metadata": {},
   "outputs": [],
   "source": []
  },
  {
   "cell_type": "code",
   "execution_count": null,
   "metadata": {},
   "outputs": [],
   "source": [
    "n=30\n",
    "one_arr = np.ones((n, 1))\n",
    "initial = one_arr@one_arr.T / n\n",
    "K= K_Bernoulli(n,a)\n",
    "A = A_adj(K)\n",
    "B_ori = B_adj(ro,K,A)\n",
    "P_1 = np.identity(n)\n",
    "B = np.matmul(P_1.T, np.matmul(B_ori,P_1))\n",
    "result_4 = FAQ(n,A,B,initial,10**(-9),0,num_loop,[],P_1)\n",
    "loop_4 = result_4[2]\n",
    "error_list_4 = result_4[3]\n",
    "L_4 = [i for i in range(1,loop_4+1)]\n"
   ]
  },
  {
   "cell_type": "code",
   "execution_count": null,
   "metadata": {},
   "outputs": [],
   "source": [
    "\n",
    "plt.plot(L_2, error_list_2,label=\"n=10\")\n",
    "plt.plot(L_3, error_list_3,label=\"n=20\")\n",
    "plt.plot(L_4, error_list_4,label=\"n=30\")\n",
    "plt.plot(L, error_list,label=\"n=40\")\n",
    "\n",
    "\n",
    "plt.xlabel(r'Number of Loops')\n",
    "plt.ylabel('Error')\n",
    "plt.grid()\n",
    "plt.legend()\n",
    "\n",
    "plt.savefig('Error_ag_Iterations_ro=1.eps', dpi=500)"
   ]
  },
  {
   "cell_type": "code",
   "execution_count": null,
   "metadata": {},
   "outputs": [],
   "source": []
  },
  {
   "cell_type": "code",
   "execution_count": null,
   "metadata": {},
   "outputs": [],
   "source": []
  },
  {
   "cell_type": "code",
   "execution_count": null,
   "metadata": {},
   "outputs": [],
   "source": []
  },
  {
   "cell_type": "markdown",
   "metadata": {},
   "source": []
  },
  {
   "cell_type": "code",
   "execution_count": null,
   "metadata": {},
   "outputs": [],
   "source": []
  },
  {
   "cell_type": "markdown",
   "metadata": {},
   "source": []
  },
  {
   "cell_type": "code",
   "execution_count": null,
   "metadata": {},
   "outputs": [],
   "source": []
  },
  {
   "cell_type": "code",
   "execution_count": null,
   "metadata": {},
   "outputs": [],
   "source": []
  },
  {
   "cell_type": "code",
   "execution_count": null,
   "metadata": {},
   "outputs": [],
   "source": []
  },
  {
   "cell_type": "code",
   "execution_count": null,
   "metadata": {},
   "outputs": [],
   "source": []
  },
  {
   "cell_type": "code",
   "execution_count": null,
   "metadata": {},
   "outputs": [],
   "source": []
  },
  {
   "cell_type": "code",
   "execution_count": null,
   "metadata": {},
   "outputs": [],
   "source": []
  },
  {
   "cell_type": "code",
   "execution_count": null,
   "metadata": {},
   "outputs": [],
   "source": []
  },
  {
   "cell_type": "code",
   "execution_count": null,
   "metadata": {},
   "outputs": [],
   "source": []
  }
 ],
 "metadata": {
  "kernelspec": {
   "display_name": "Python 3",
   "language": "python",
   "name": "python3"
  },
  "language_info": {
   "codemirror_mode": {
    "name": "ipython",
    "version": 3
   },
   "file_extension": ".py",
   "mimetype": "text/x-python",
   "name": "python",
   "nbconvert_exporter": "python",
   "pygments_lexer": "ipython3",
   "version": "3.8.3"
  }
 },
 "nbformat": 4,
 "nbformat_minor": 4
}
