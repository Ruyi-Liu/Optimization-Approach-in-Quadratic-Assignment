{
 "cells": [
  {
   "cell_type": "code",
   "execution_count": 1,
   "metadata": {},
   "outputs": [
    {
     "name": "stdout",
     "output_type": "stream",
     "text": [
      "3000\n"
     ]
    }
   ],
   "source": [
    "import numpy as np\n",
    "import networkx as nx\n",
    "import matplotlib.pyplot as plt\n",
    "import random\n",
    "import cvxpy as cp\n",
    "from numpy import linalg as LA\n",
    "import pprint\n",
    "from lap import lapjv\n",
    "import copy\n",
    "import sys\n",
    "import datetime\n",
    "from tqdm import tqdm_notebook\n",
    "\n",
    "print(sys.getrecursionlimit())\n",
    "\n",
    "\n",
    "ro = np.linspace(0,1,25)\n",
    "\n",
    "n= 100\n",
    "\n",
    "k = 10\n",
    "\n",
    "a = 0.2\n",
    "\n",
    "num_loop = 1000\n"
   ]
  },
  {
   "cell_type": "code",
   "execution_count": 2,
   "metadata": {},
   "outputs": [],
   "source": [
    "# Construct K\n",
    "def K_Bernoulli(n,a):\n",
    "    np.random.seed(3)\n",
    "    K=np.identity(n)\n",
    "    P=np.ones([n,n]) \n",
    "    K = P-K\n",
    "    #print(K)\n",
    "    for i in range(n):\n",
    "        for j in range(i+1,n):\n",
    "            K[i][j] = round(random.uniform(a,1-a),2)\n",
    "            #K[i][j] = random.uniform(alpha,1-alpha)\n",
    "            K[j][i]=K[i][j]        \n",
    "    return K\n",
    "     \n",
    "\n",
    "# Generate A\n",
    "def A_adj(K):\n",
    "    n = len(K)\n",
    "    B=np.identity(len(K))\n",
    "    P=np.ones([n,n]) \n",
    "    #print(P)\n",
    "    B= P-B\n",
    "    #print(B)\n",
    "    for i in range(len(B)):\n",
    "        for j in range(i+1,len(B)):\n",
    "            B[i][j] =random.uniform(0,1)\n",
    "            if B[i][j] < K[i][j]:\n",
    "                B[i][j] = 1\n",
    "            else:\n",
    "                B[i][j] = 0\n",
    "            B[j][i] = B[i][j]\n",
    "    A = B\n",
    "    return A\n",
    "\n",
    "# Generate B\n",
    "def B_adj(ro,K,A):\n",
    "    B = np.zeros([len(A),len(A)])\n",
    "    for i in range(len(B)):\n",
    "        for j in range(i+1,len(B)):\n",
    "            B[i][j] =random.uniform(0,1)\n",
    "            if B[i][j] < (1-ro)*K[i][j] + ro*A[i][j]:\n",
    "                B[i][j] = 1\n",
    "            else:\n",
    "                B[i][j] = 0\n",
    "            B[j][i] = B[i][j]\n",
    "    return B\n",
    "    \n",
    "    \n",
    "                \n",
    "            \n",
    "                \n",
    "            \n"
   ]
  },
  {
   "cell_type": "code",
   "execution_count": null,
   "metadata": {},
   "outputs": [],
   "source": []
  },
  {
   "cell_type": "code",
   "execution_count": 3,
   "metadata": {},
   "outputs": [],
   "source": [
    "#Construct a n-degree permutation matrix \n",
    "\n",
    "def permu(N):\n",
    "    E=np.identity(N)\n",
    "    permutation = np.random.permutation(N)\n",
    "    P=np.zeros([N,N]) #initialize the permutation matrix\n",
    "     \n",
    "    for i in range(0,N):\n",
    "        P[i]=E[permutation[i]]\n",
    "    \n",
    "    \n",
    "    return P.astype(int)\n"
   ]
  },
  {
   "cell_type": "code",
   "execution_count": 4,
   "metadata": {},
   "outputs": [],
   "source": [
    "# Generate a random aj matrix for unweighted and undirected graph\n",
    "def generate_aj_matrix(n):\n",
    "    id = np.identity(n)\n",
    "    ones_mat=np.ones((n, n)) \n",
    "    arr = ones_mat - id\n",
    "    #print(arr)\n",
    "    for i in range(n):\n",
    "        for j in range(i+1,n):\n",
    "            arr[i][j] = random.choice([0,1])\n",
    "            arr[j][i] = arr[i][j]\n",
    "    return arr"
   ]
  },
  {
   "cell_type": "code",
   "execution_count": null,
   "metadata": {},
   "outputs": [],
   "source": []
  },
  {
   "cell_type": "code",
   "execution_count": null,
   "metadata": {},
   "outputs": [],
   "source": []
  },
  {
   "cell_type": "code",
   "execution_count": 5,
   "metadata": {},
   "outputs": [],
   "source": [
    "def ret_permu_result(l,n):\n",
    "    ret = np.zeros((n, n))\n",
    "    for i in range(n):\n",
    "        ret[i][l[i]] = 1\n",
    "    #print(ret)\n",
    "    return ret"
   ]
  },
  {
   "cell_type": "code",
   "execution_count": null,
   "metadata": {},
   "outputs": [],
   "source": [
    "\n"
   ]
  },
  {
   "cell_type": "code",
   "execution_count": 6,
   "metadata": {},
   "outputs": [],
   "source": [
    "def f_for_step_3(A,B,P):\n",
    "    return -np.trace(A@P@B.T@P.T)"
   ]
  },
  {
   "cell_type": "code",
   "execution_count": 7,
   "metadata": {},
   "outputs": [],
   "source": [
    "def get_alpha_value(A,B,P,Q):\n",
    "    alpha = 0\n",
    "    a = -np.trace(A@P@B.T@P.T-A@P@B.T@Q.T-A@Q@B.T@P.T+A@Q@B.T@Q.T)\n",
    "    b  = np.trace(2*(A@P@B.T@P.T)-A@P@B.T@Q.T-A@Q@B.T@P.T)\n",
    "    x_extreme = -b/(2*a)\n",
    "    dic = dict()\n",
    "    dic[0] = f_for_step_3(A,B,P)\n",
    "    dic[1]=f_for_step_3(A,B,Q)\n",
    "    dic[x_extreme] = f_for_step_3(A,B,(1-x_extreme)*P+x_extreme*Q)\n",
    "    \n",
    "    #print(dic)\n",
    "    if (x_extreme < 1) and (x_extreme>0):    \n",
    "        Min = dic[0]\n",
    "        key = 0\n",
    "        for k, v in dic.items():\n",
    "            if v < Min:\n",
    "                #print(key, Min)\n",
    "                #print(k,v)\n",
    "                #print(v < Min)\n",
    "                key = k\n",
    "                Min = v\n",
    "        #print(key)\n",
    "        return key\n",
    "    else:\n",
    "        \n",
    "        Min = dic[0]\n",
    "        if dic[1]<Min:\n",
    "            Min = dic[1]\n",
    "            #print(1)\n",
    "            return 1\n",
    "        #print(0)\n",
    "        return 0 \n",
    "        \n",
    "\n",
    "    "
   ]
  },
  {
   "cell_type": "code",
   "execution_count": 8,
   "metadata": {},
   "outputs": [],
   "source": [
    "def loss_P_1_percent(P_D_r,P_1):\n",
    "    loss = 0\n",
    "    for i in (P_D_r==P_1):\n",
    "        for j in i:\n",
    "            if j == False:\n",
    "                loss +=1\n",
    "    loss = loss/2\n",
    "    loss_percent = loss/n\n",
    "    return loss_percent"
   ]
  },
  {
   "cell_type": "code",
   "execution_count": null,
   "metadata": {},
   "outputs": [],
   "source": []
  },
  {
   "cell_type": "code",
   "execution_count": null,
   "metadata": {},
   "outputs": [],
   "source": []
  },
  {
   "cell_type": "code",
   "execution_count": null,
   "metadata": {},
   "outputs": [],
   "source": []
  },
  {
   "cell_type": "code",
   "execution_count": null,
   "metadata": {},
   "outputs": [],
   "source": []
  },
  {
   "cell_type": "code",
   "execution_count": 9,
   "metadata": {},
   "outputs": [],
   "source": [
    "def FAQ_f_initialization(n,A,B,initial,eps,loop,num_loop):\n",
    "    loop += 1\n",
    "    \n",
    "    gradient = 2*A.T@A@initial - 2*(A.T@initial@B + A@initial@B.T) +2*initial@B@B.T\n",
    "    \n",
    "        \n",
    "    # Dropping terms independent of P\n",
    "    x,y,c = lapjv(gradient)\n",
    "    index_list = y\n",
    "    Q = ret_permu_result(index_list,n)\n",
    "    \n",
    "    # Find alpha\n",
    "    alpha = cp.Variable(1)\n",
    "    #print(alpha.shape)(1-alpha)*\n",
    "    P = (1-alpha)*initial+ alpha * Q\n",
    "    objective = cp.Minimize((cp.norm(A@P-P@B, 'fro'))**2)\n",
    "    constraints = [0<= alpha, alpha<= 1]\n",
    "    prob = cp.Problem(objective, constraints)\n",
    "    prob.solve()\n",
    "    #print(alpha.value)\n",
    "    #print(type(alpha.value[0]))\n",
    "    \n",
    "    # Update P ((1-alpha.value[0])*)\n",
    "    P_new = (1-alpha.value[0])*initial + alpha.value[0]*Q\n",
    "    #print('P_new: ', P_new)\n",
    "    if loop>num_loop:\n",
    "\n",
    "        return P_new\n",
    "\n",
    "    if LA.norm(P_new-initial, 'fro') < eps:\n",
    "        #print(P_new)\n",
    "        return P_new\n",
    "        \n",
    "    else:\n",
    "        return FAQ_f_initialization(n,A,B,P_new,eps,loop,num_loop)\n"
   ]
  },
  {
   "cell_type": "code",
   "execution_count": 10,
   "metadata": {},
   "outputs": [],
   "source": [
    "def FAQ(n,A,B,initial,eps,loop,num_loop):\n",
    "    loop += 1\n",
    "    # Compute gradient\n",
    "    gradient = -A@initial@B.T - A.T@initial@B\n",
    "        \n",
    "    # Dropping terms independent of P\n",
    "    x,y,c = lapjv(gradient)\n",
    "    index_list = y\n",
    "    Q = ret_permu_result(index_list,n)\n",
    "    \n",
    "    \n",
    "    # Update P\n",
    "    alpha = get_alpha_value(A,B,initial,Q)\n",
    "    P_new = (1-alpha)*initial + alpha*Q\n",
    "    \n",
    "    if loop>num_loop:\n",
    "        # Projection\n",
    "        e,r,t = lapjv(-P_new.T)\n",
    "        #print(r)\n",
    "        P_result = ret_permu_result(r,n).T\n",
    "        #print(\"out of time\",P_result)\n",
    "        return P_result\n",
    "\n",
    "    if LA.norm(P_new-initial, 'fro') < eps:\n",
    "        # Projection\n",
    "        e,r,t = lapjv(-P_new.T)\n",
    "        #print(r)\n",
    "        P_result = ret_permu_result(r,n).T\n",
    "        #print(\"norm close\\n\",P_result)\n",
    "        return P_result\n",
    "    else:\n",
    "        return FAQ(n,A,B,P_new,eps,loop,num_loop) "
   ]
  },
  {
   "cell_type": "code",
   "execution_count": 11,
   "metadata": {},
   "outputs": [],
   "source": [
    "def initialization_D_fap(A,B,n,num_loop,P_1):\n",
    "\n",
    "    one_arr = np.ones((n, 1))\n",
    "    initial = one_arr@one_arr.T / n\n",
    "    \n",
    "    starttime = datetime.datetime.now()\n",
    "    \n",
    "    initial_D = FAQ_f_initialization(n,A,B,initial,10**(-9),0,num_loop)\n",
    "\n",
    "    \n",
    "    P_D_r = FAQ(n,A,B,initial_D,10**(-9),0,num_loop)\n",
    "    \n",
    "    \n",
    "\n",
    "    align_percent = (np.trace(P_1.T @ P_D_r))/n\n",
    "    \n",
    "    \n",
    "    \n",
    "    original_error = LA.norm(A@P_1 - P_1@B,\"fro\")\n",
    "    extra_error = LA.norm(A@P_D_r - P_D_r@B,\"fro\")/ LA.norm(A,\"fro\")\n",
    "    \n",
    "    endtime = datetime.datetime.now()\n",
    "    runtime = endtime - starttime\n",
    "    total_seconds = runtime.total_seconds()\n",
    "\n",
    "    return [align_percent,total_seconds,extra_error]\n",
    "    "
   ]
  },
  {
   "cell_type": "code",
   "execution_count": 12,
   "metadata": {},
   "outputs": [],
   "source": [
    "#Use Identity first\n",
    "\n",
    "def comparison(ro,alpha,n,k,num_loop):\n",
    "    \n",
    "    sum_align_D_fap = 0\n",
    "    \n",
    "    sum_runtime_D_fap = 0\n",
    "    \n",
    "    sum_error_D_fap = 0\n",
    "    for i in range(k):\n",
    "        P_1 = np.identity(n)\n",
    "        K= K_Bernoulli(n,alpha)\n",
    "        A = A_adj(K)\n",
    "        B_ori = B_adj(ro,K,A)\n",
    "        B = np.matmul(P_1.T, np.matmul(B_ori,P_1))\n",
    "    \n",
    "        fap=initialization_D_fap(A,B,n,num_loop,P_1)\n",
    "        \n",
    "        sum_align_D_fap +=fap[0]\n",
    "        \n",
    "        sum_runtime_D_fap  +=fap[1]\n",
    "        sum_error_D_fap +=fap[2]\n",
    "        \n",
    "    \n",
    "    avg_align_D_fap = sum_align_D_fap / k\n",
    "\n",
    "    runtime_D_fap=sum_runtime_D_fap/k\n",
    "    \n",
    "    error_D_fap = sum_error_D_fap/k\n",
    "    \n",
    "    return  avg_align_D_fap,runtime_D_fap,error_D_fap\n",
    "    \n",
    "        \n"
   ]
  },
  {
   "cell_type": "code",
   "execution_count": null,
   "metadata": {},
   "outputs": [],
   "source": []
  },
  {
   "cell_type": "code",
   "execution_count": 13,
   "metadata": {},
   "outputs": [
    {
     "name": "stderr",
     "output_type": "stream",
     "text": [
      "<ipython-input-13-b8c00a66ad3c>:8: TqdmDeprecationWarning: This function will be removed in tqdm==5.0.0\n",
      "Please use `tqdm.notebook.tqdm` instead of `tqdm.tqdm_notebook`\n",
      "  for i in tqdm_notebook(range(len(ro))):\n"
     ]
    },
    {
     "data": {
      "application/vnd.jupyter.widget-view+json": {
       "model_id": "ec104cf453bd4aa5b5cb8c4828f1b5ff",
       "version_major": 2,
       "version_minor": 0
      },
      "text/plain": [
       "HBox(children=(FloatProgress(value=0.0, max=25.0), HTML(value='')))"
      ]
     },
     "metadata": {},
     "output_type": "display_data"
    },
    {
     "name": "stderr",
     "output_type": "stream",
     "text": [
      "<ipython-input-7-9c6fdf298a1d>:5: RuntimeWarning: divide by zero encountered in double_scalars\n",
      "  x_extreme = -b/(2*a)\n",
      "<ipython-input-7-9c6fdf298a1d>:9: RuntimeWarning: invalid value encountered in multiply\n",
      "  dic[x_extreme] = f_for_step_3(A,B,(1-x_extreme)*P+x_extreme*Q)\n",
      "<ipython-input-7-9c6fdf298a1d>:9: RuntimeWarning: invalid value encountered in add\n",
      "  dic[x_extreme] = f_for_step_3(A,B,(1-x_extreme)*P+x_extreme*Q)\n",
      "<ipython-input-7-9c6fdf298a1d>:5: RuntimeWarning: invalid value encountered in double_scalars\n",
      "  x_extreme = -b/(2*a)\n",
      "/opt/anaconda3/lib/python3.8/site-packages/cvxpy/problems/problem.py:1125: UserWarning: Solution may be inaccurate. Try another solver, adjusting the solver settings, or solve with verbose=True for more information.\n",
      "  warnings.warn(\n"
     ]
    },
    {
     "name": "stdout",
     "output_type": "stream",
     "text": [
      "Align Rate:  0.01\n",
      "Align Rate:  0.01\n",
      "Align Rate:  0.015999999999999997\n",
      "Align Rate:  0.01\n",
      "Align Rate:  0.01\n",
      "Align Rate:  0.014000000000000002\n",
      "Align Rate:  0.012\n",
      "Align Rate:  0.014000000000000002\n",
      "Align Rate:  0.026000000000000002\n",
      "Align Rate:  0.024\n",
      "Align Rate:  0.018\n",
      "Align Rate:  0.026000000000000002\n",
      "Align Rate:  0.036\n",
      "Align Rate:  0.024\n",
      "Align Rate:  0.018\n",
      "Align Rate:  0.078\n",
      "Align Rate:  0.25600000000000006\n",
      "Align Rate:  0.8099999999999999\n",
      "Align Rate:  1.0\n",
      "Align Rate:  1.0\n",
      "Align Rate:  1.0\n",
      "Align Rate:  1.0\n",
      "Align Rate:  1.0\n",
      "Align Rate:  1.0\n",
      "Align Rate:  1.0\n",
      "\n"
     ]
    }
   ],
   "source": [
    "\n",
    "FAP_aligned_percent_list = []\n",
    "\n",
    "FAP_runtime_list = []\n",
    "\n",
    "FAP_error_list = []\n",
    "\n",
    "\n",
    "for i in tqdm_notebook(range(len(ro))):\n",
    "    ro_temp = ro[i]\n",
    "    D_fap,r_fap,error_fap = comparison(ro_temp,a,n,k,num_loop)\n",
    "    print(\"Align Rate: \", D_fap)\n",
    "    #print(\"Runtime:\", r_fap)\n",
    "    #print(\"Error: \", error_fap)\n",
    "    \n",
    "    FAP_aligned_percent_list.append(D_fap)\n",
    "    \n",
    "    FAP_runtime_list.append(r_fap)\n",
    "    \n",
    "    FAP_error_list.append(error_fap)\n",
    "    "
   ]
  },
  {
   "cell_type": "code",
   "execution_count": 14,
   "metadata": {},
   "outputs": [
    {
     "name": "stdout",
     "output_type": "stream",
     "text": [
      "[0.01, 0.01, 0.015999999999999997, 0.01, 0.01, 0.014000000000000002, 0.012, 0.014000000000000002, 0.026000000000000002, 0.024, 0.018, 0.026000000000000002, 0.036, 0.024, 0.018, 0.078, 0.25600000000000006, 0.8099999999999999, 1.0, 1.0, 1.0, 1.0, 1.0, 1.0, 1.0]\n",
      "[519.6729938, 173.977713, 175.0534584, 170.6061248, 174.4788888, 169.53715659999997, 173.0416856, 171.70628379999997, 172.06541739999997, 2333.82636, 5309.538339399999, 167.8778578, 174.4045458, 170.4767226, 167.471125, 169.4168798, 168.83179020000003, 169.1366932, 170.69095959999999, 169.643798, 170.385062, 168.66805300000001, 167.823192, 169.3190012, 146.94739179999996]\n",
      "[0.828572997777097, 0.8293596778744327, 0.8280206081672894, 0.831958525339523, 0.8243049735080648, 0.8220521214237836, 0.8267362512120752, 0.831966351530942, 0.8284905909700143, 0.8243437162828501, 0.8317715204480185, 0.8307093619711079, 0.8265947268917774, 0.8261906355923971, 0.8358635329650699, 0.8351891877939626, 0.7731544138255965, 0.5725477392874829, 0.46573192693180643, 0.42764931064077977, 0.3829398309145473, 0.3352853064779651, 0.2742423065325124, 0.19477070235857336, 0.0]\n"
     ]
    }
   ],
   "source": [
    "\n",
    "print(FAP_aligned_percent_list)\n",
    "\n",
    "print(FAP_runtime_list)\n",
    "\n",
    "print(FAP_error_list)"
   ]
  },
  {
   "cell_type": "code",
   "execution_count": null,
   "metadata": {},
   "outputs": [],
   "source": []
  },
  {
   "cell_type": "code",
   "execution_count": null,
   "metadata": {},
   "outputs": [],
   "source": []
  },
  {
   "cell_type": "code",
   "execution_count": 15,
   "metadata": {},
   "outputs": [
    {
     "name": "stderr",
     "output_type": "stream",
     "text": [
      "The PostScript backend does not support transparency; partially transparent artists will be rendered opaque.\n",
      "The PostScript backend does not support transparency; partially transparent artists will be rendered opaque.\n"
     ]
    },
    {
     "data": {
      "image/png": "[encoded data removed]",
      "text/plain": [
       "<Figure size 432x288 with 1 Axes>"
      ]
     },
     "metadata": {
      "needs_background": "light"
     },
     "output_type": "display_data"
    }
   ],
   "source": [
    "\n",
    "\n",
    "plt.plot(ro, FAP_aligned_percent_list, label=\"Initialization = D_fap\")\n",
    "plt.xlabel(r'$\\rho$')\n",
    "plt.ylabel('Align rate')\n",
    "plt.grid()\n",
    "plt.legend()\n",
    "#plt.show()\n",
    "#plt.close()\n",
    "plt.savefig('fap_51_align_rate_n_100.eps', dpi=500)\n"
   ]
  },
  {
   "cell_type": "code",
   "execution_count": 16,
   "metadata": {},
   "outputs": [],
   "source": []
  },
  {
   "cell_type": "code",
   "execution_count": 17,
   "metadata": {},
   "outputs": [
    {
     "name": "stderr",
     "output_type": "stream",
     "text": [
      "The PostScript backend does not support transparency; partially transparent artists will be rendered opaque.\n",
      "The PostScript backend does not support transparency; partially transparent artists will be rendered opaque.\n"
     ]
    },
    {
     "data": {
      "image/png": "[encoded data removed]",
      "text/plain": [
       "<Figure size 432x288 with 1 Axes>"
      ]
     },
     "metadata": {
      "needs_background": "light"
     },
     "output_type": "display_data"
    }
   ],
   "source": [
    "\n",
    "plt.plot(ro, FAP_error_list, label=\"Initialization = D_fap\")\n",
    "plt.xlabel(r'$\\rho$')\n",
    "plt.ylabel('Relative Error')\n",
    "plt.grid()\n",
    "plt.legend()\n",
    "#plt.show()\n",
    "#plt.close()\n",
    "plt.savefig('fap_51_align_errorn100.eps', dpi=500)"
   ]
  },
  {
   "cell_type": "markdown",
   "metadata": {},
   "source": [
    "# "
   ]
  }
 ],
 "metadata": {
  "kernelspec": {
   "display_name": "Python 3",
   "language": "python",
   "name": "python3"
  },
  "language_info": {
   "codemirror_mode": {
    "name": "ipython",
    "version": 3
   },
   "file_extension": ".py",
   "mimetype": "text/x-python",
   "name": "python",
   "nbconvert_exporter": "python",
   "pygments_lexer": "ipython3",
   "version": "3.8.3"
  }
 },
 "nbformat": 4,
 "nbformat_minor": 4
}
