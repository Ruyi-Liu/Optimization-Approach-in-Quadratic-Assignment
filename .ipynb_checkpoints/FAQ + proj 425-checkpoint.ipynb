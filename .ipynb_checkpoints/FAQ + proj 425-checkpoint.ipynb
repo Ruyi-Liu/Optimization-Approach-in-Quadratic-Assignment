{
 "cells": [
  {
   "cell_type": "code",
   "execution_count": 1,
   "metadata": {},
   "outputs": [
    {
     "name": "stdout",
     "output_type": "stream",
     "text": [
      "3000\n"
     ]
    }
   ],
   "source": [
    "import numpy as np\n",
    "import networkx as nx\n",
    "import matplotlib.pyplot as plt\n",
    "import random\n",
    "import cvxpy as cp\n",
    "from numpy import linalg as LA\n",
    "import pprint\n",
    "from lap import lapjv\n",
    "import copy\n",
    "import sys\n",
    "import datetime\n",
    "from tqdm import tqdm_notebook\n",
    "\n",
    "print(sys.getrecursionlimit())\n",
    "sys.setrecursionlimit(50000)\n",
    "\n",
    "N = [74,82,90,98]\n",
    "ro = 0.8\n",
    "a = 0.2\n",
    "k = 2\n",
    "# we have that (1-alpha)(1-ro) < 1/2 satisfy condition in part a and part b \n",
    "\n",
    "num_loop = 1000\n"
   ]
  },
  {
   "cell_type": "code",
   "execution_count": 2,
   "metadata": {},
   "outputs": [],
   "source": [
    "# Construct K\n",
    "def K_Bernoulli(n,a):\n",
    "    np.random.seed(3)\n",
    "    K=np.identity(n)\n",
    "    P=np.ones([n,n]) \n",
    "    K = P-K\n",
    "    #print(K)\n",
    "    for i in range(n):\n",
    "        for j in range(i+1,n):\n",
    "            K[i][j] = round(random.uniform(a,1-a),2)\n",
    "            #K[i][j] = random.uniform(alpha,1-alpha)\n",
    "            K[j][i]=K[i][j]        \n",
    "    return K\n",
    "     \n",
    "\n",
    "# Generate A\n",
    "def A_adj(K):\n",
    "    n = len(K)\n",
    "    B=np.identity(len(K))\n",
    "    P=np.ones([n,n]) \n",
    "    #print(P)\n",
    "    B= P-B\n",
    "    #print(B)\n",
    "    for i in range(len(B)):\n",
    "        for j in range(i+1,len(B)):\n",
    "            B[i][j] =random.uniform(0,1)\n",
    "            if B[i][j] < K[i][j]:\n",
    "                B[i][j] = 1\n",
    "            else:\n",
    "                B[i][j] = 0\n",
    "            B[j][i] = B[i][j]\n",
    "    A = B\n",
    "    return A\n",
    "\n",
    "# Generate B\n",
    "def B_adj(ro,K,A):\n",
    "    B = np.zeros([len(A),len(A)])\n",
    "    for i in range(len(B)):\n",
    "        for j in range(i+1,len(B)):\n",
    "            B[i][j] =random.uniform(0,1)\n",
    "            if B[i][j] < (1-ro)*K[i][j] + ro*A[i][j]:\n",
    "                B[i][j] = 1\n",
    "            else:\n",
    "                B[i][j] = 0\n",
    "            B[j][i] = B[i][j]\n",
    "    return B\n",
    "    \n",
    "    \n",
    "                \n",
    "            \n",
    "                \n",
    "            \n"
   ]
  },
  {
   "cell_type": "code",
   "execution_count": null,
   "metadata": {},
   "outputs": [],
   "source": []
  },
  {
   "cell_type": "code",
   "execution_count": null,
   "metadata": {},
   "outputs": [],
   "source": []
  },
  {
   "cell_type": "code",
   "execution_count": 3,
   "metadata": {},
   "outputs": [],
   "source": [
    "#Construct a n-degree permutation matrix \n",
    "\n",
    "def permu(N):\n",
    "    E=np.identity(N)\n",
    "    permutation = np.random.permutation(N)\n",
    "    P=np.zeros([N,N]) #initialize the permutation matrix\n",
    "     \n",
    "    for i in range(0,N):\n",
    "        P[i]=E[permutation[i]]\n",
    "    \n",
    "    \n",
    "    return P.astype(int)\n",
    "\n"
   ]
  },
  {
   "cell_type": "code",
   "execution_count": 4,
   "metadata": {},
   "outputs": [],
   "source": [
    "# Generate a random aj matrix for unweighted and undirected graph\n",
    "def generate_aj_matrix(n):\n",
    "    id = np.identity(n)\n",
    "    ones_mat=np.ones((n, n)) \n",
    "    arr = ones_mat - id\n",
    "    #print(arr)\n",
    "    for i in range(n):\n",
    "        for j in range(i+1,n):\n",
    "            arr[i][j] = random.choice([0,1])\n",
    "            arr[j][i] = arr[i][j]\n",
    "    return arr"
   ]
  },
  {
   "cell_type": "code",
   "execution_count": null,
   "metadata": {},
   "outputs": [],
   "source": []
  },
  {
   "cell_type": "code",
   "execution_count": null,
   "metadata": {},
   "outputs": [],
   "source": []
  },
  {
   "cell_type": "code",
   "execution_count": null,
   "metadata": {},
   "outputs": [],
   "source": []
  },
  {
   "cell_type": "code",
   "execution_count": 5,
   "metadata": {},
   "outputs": [],
   "source": [
    "def ret_permu_result(l,n):\n",
    "    ret = np.zeros((n, n))\n",
    "    for i in range(n):\n",
    "        ret[i][l[i]] = 1\n",
    "    #print(ret)\n",
    "    return ret"
   ]
  },
  {
   "cell_type": "code",
   "execution_count": null,
   "metadata": {},
   "outputs": [],
   "source": [
    "\n"
   ]
  },
  {
   "cell_type": "code",
   "execution_count": null,
   "metadata": {},
   "outputs": [],
   "source": []
  },
  {
   "cell_type": "code",
   "execution_count": null,
   "metadata": {},
   "outputs": [],
   "source": [
    "\n"
   ]
  },
  {
   "cell_type": "code",
   "execution_count": null,
   "metadata": {},
   "outputs": [],
   "source": []
  },
  {
   "cell_type": "code",
   "execution_count": 6,
   "metadata": {},
   "outputs": [],
   "source": [
    "def FAQ(n,A,B,initial,eps,loop,num_loop):\n",
    "    loop += 1\n",
    "    \n",
    "    gradient = 2*A.T@A@initial - 2*(A.T@initial@B + A@initial@B.T) +2*initial@B@B.T\n",
    "    \n",
    "        \n",
    "    # Dropping terms independent of P\n",
    "    x,y,c = lapjv(gradient)\n",
    "    index_list = y\n",
    "    Q = ret_permu_result(index_list,n)\n",
    "    \n",
    "    # Find alpha\n",
    "    alpha = cp.Variable(1)\n",
    "    #print(alpha.shape)(1-alpha)*\n",
    "    P = (1-alpha)*initial+ alpha * Q\n",
    "    objective = cp.Minimize((cp.norm(A@P-P@B, 'fro'))**2)\n",
    "    constraints = [0<= alpha, alpha<= 1]\n",
    "    prob = cp.Problem(objective, constraints)\n",
    "    prob.solve()\n",
    "    #print(alpha.value)\n",
    "    #print(type(alpha.value[0]))\n",
    "    \n",
    "    # Update P ((1-alpha.value[0])*)\n",
    "    P_new = (1-alpha.value[0])*initial + alpha.value[0]*Q\n",
    "    \n",
    "    if loop>num_loop:\n",
    "        # Projection\n",
    "        e,r,t = lapjv(-P_new.T)\n",
    "        #print(r)\n",
    "        P_result = ret_permu_result(r,n).T\n",
    "        return [P_new,P_result]\n",
    "\n",
    "    if LA.norm(P_new-initial, 'fro') < eps:\n",
    "        # Projection\n",
    "        e,r,t = lapjv(-P_new.T)\n",
    "        #print(r)\n",
    "        P_result = ret_permu_result(r,n).T\n",
    "        #return P_result\n",
    "        return [P_new,P_result]\n",
    "    else:\n",
    "        return FAQ(n,A,B,P_new,eps,loop,num_loop) \n",
    "    #print(P_new)"
   ]
  },
  {
   "cell_type": "code",
   "execution_count": null,
   "metadata": {},
   "outputs": [],
   "source": [
    "\n",
    "\n",
    "\n"
   ]
  },
  {
   "cell_type": "code",
   "execution_count": null,
   "metadata": {},
   "outputs": [],
   "source": []
  },
  {
   "cell_type": "code",
   "execution_count": 7,
   "metadata": {},
   "outputs": [],
   "source": [
    "def faq_proj(n,A,B,initial,num_loop):\n",
    "    starttime = datetime.datetime.now()\n",
    "    result = FAQ(n,A,B,initial,10**(-9),0,num_loop)\n",
    "    D_r_1 = result[0]\n",
    "\n",
    "    nr_1 = LA.norm(A@D_r_1-D_r_1@B,\"fro\")\n",
    "    #print(nr)\n",
    "    #print(\"Loss Step 1: \\n\",nr_1)\n",
    "\n",
    "    P_r = result[1]\n",
    "    nr_2 = LA.norm(A@P_r-P_r@B,\"fro\")\n",
    "    #print(nr)\n",
    "    #print(\"Loss Step 2: \\n\",nr_2)\n",
    "    endtime = datetime.datetime.now()\n",
    "    runtime = endtime - starttime\n",
    "    total_seconds = runtime.total_seconds()\n",
    "    return [nr_2,total_seconds]"
   ]
  },
  {
   "cell_type": "code",
   "execution_count": null,
   "metadata": {},
   "outputs": [],
   "source": []
  },
  {
   "cell_type": "markdown",
   "metadata": {},
   "source": [
    "### From here we can see that implementing FAQ algorithm with 5 steps can recover P if two graphs are friendly and have exact matching."
   ]
  },
  {
   "cell_type": "code",
   "execution_count": 8,
   "metadata": {},
   "outputs": [],
   "source": [
    "def cvx_proj(A,B,n):\n",
    "    starttime = datetime.datetime.now()\n",
    "    # check if the same as cvxpy\n",
    "    # Define and solve the CVXPY problem.\n",
    "    \n",
    "    P = cp.Variable((n,n))\n",
    "    arr = cp.expressions.constants.Constant([[1 for i in range(n)]])\n",
    "    constraints = [P.__matmul__(arr) == arr, P.T.__matmul__(arr) == arr, cp.min(P)>=0]\n",
    "    prob = cp.Problem(cp.Minimize((cp.norm(P.__matmul__(B)-(P.T.__matmul__(A.T)).T, 'fro'))**2), constraints)\n",
    "    # prob = cp.Problem(cp.Minimize(LA.norm(np.multiply(P,A)-np.matmul(B,P), 'fro')), constraints)\n",
    "    prob.solve()\n",
    "\n",
    "    P_step_1 = copy.deepcopy(P.value)\n",
    "\n",
    "    nr_3 = LA.norm(A@P_step_1-P_step_1@B,\"fro\")\n",
    "    #print(nr)\n",
    "    #print(\"Loss Step 1: \\n\",nr_3)\n",
    "\n",
    "    # Projection\n",
    "    e,r,t = lapjv(-P_step_1)\n",
    "    #print(r)\n",
    "    P_result = ret_permu_result(r,n)\n",
    "    nr_4 = LA.norm(A@P_result-P_result@B,\"fro\")\n",
    "    #print(nr)\n",
    "    #print(\"Loss Step 2: \\n\",nr_4)\n",
    "    endtime = datetime.datetime.now()\n",
    "    runtime = endtime - starttime\n",
    "    total_seconds = runtime.total_seconds()\n",
    "    return [nr_4,total_seconds]"
   ]
  },
  {
   "cell_type": "code",
   "execution_count": 9,
   "metadata": {},
   "outputs": [],
   "source": [
    "#Use Identity first\n",
    "\n",
    "def comparison(ro,alpha,n,k,num_loop):\n",
    "    one_arr = np.ones((n, 1))\n",
    "    initial = one_arr@one_arr.T / n\n",
    "    sum_runtime_D_cvx = 0\n",
    "    sum_runtime_D_fap = 0\n",
    "    sum_error_D_cvx = 0\n",
    "    sum_error_D_fap = 0\n",
    "    \n",
    "    for i in range(k):\n",
    "        P_1 = np.identity(n)\n",
    "        K= K_Bernoulli(n,alpha)\n",
    "        A = A_adj(K)\n",
    "        B_ori = B_adj(ro,K,A)\n",
    "        B = np.matmul(P_1.T, np.matmul(B_ori,P_1))\n",
    "        #result_cvx = cvx_proj(A,B,n)\n",
    "        result_faq= faq_proj(n,A,B,initial,num_loop)\n",
    "        #sum_runtime_D_cvx  +=result_cvx[1]\n",
    "        sum_runtime_D_fap  +=result_faq[1]\n",
    "        #sum_error_D_cvx +=result_cvx[0]\n",
    "        sum_error_D_fap +=result_faq[0]\n",
    "        \n",
    "\n",
    "    runtime_D_cvx=sum_runtime_D_cvx/k\n",
    "    runtime_D_fap=sum_runtime_D_fap/k\n",
    "    \n",
    "    error_D_cvx = sum_error_D_cvx/k\n",
    "    error_D_fap = sum_error_D_fap/k\n",
    "    \n",
    "    return runtime_D_cvx,runtime_D_fap,error_D_cvx,error_D_fap\n",
    "    \n",
    "        \n"
   ]
  },
  {
   "cell_type": "code",
   "execution_count": 10,
   "metadata": {},
   "outputs": [
    {
     "name": "stderr",
     "output_type": "stream",
     "text": [
      "<ipython-input-10-c59ceb5dde83>:7: TqdmDeprecationWarning: This function will be removed in tqdm==5.0.0\n",
      "Please use `tqdm.notebook.tqdm` instead of `tqdm.tqdm_notebook`\n",
      "  for i in tqdm_notebook(range(len(N))):\n"
     ]
    },
    {
     "data": {
      "application/vnd.jupyter.widget-view+json": {
       "model_id": "04d02bd0b1ae4120a1c4b5d6c411fdcd",
       "version_major": 2,
       "version_minor": 0
      },
      "text/plain": [
       "HBox(children=(FloatProgress(value=0.0, max=4.0), HTML(value='')))"
      ]
     },
     "metadata": {},
     "output_type": "display_data"
    },
    {
     "name": "stdout",
     "output_type": "stream",
     "text": [
      "Runtime: 0.0 75.67997700000001\n",
      "Error:  0.0 28.613172003701862\n",
      "Runtime: 0.0 92.75374099999999\n",
      "Error:  0.0 38.06854284054719\n",
      "Runtime: 0.0 113.883759\n",
      "Error:  0.0 48.48719034778165\n",
      "Runtime: 0.0 136.345012\n",
      "Error:  0.0 53.89053766258899\n",
      "\n"
     ]
    }
   ],
   "source": [
    "\n",
    "CVX_runtime_list=[]\n",
    "FAP_runtime_list = []\n",
    "CVX_error_list = []\n",
    "FAP_error_list = []\n",
    "\n",
    "\n",
    "for i in tqdm_notebook(range(len(N))):\n",
    "    n = N[i]\n",
    "    r_cvx,r_fap,error_cvx,error_fap = comparison(ro,a,n,k,num_loop)\n",
    "\n",
    "    print(\"Runtime:\", r_cvx,r_fap)\n",
    "    print(\"Error: \", error_cvx,error_fap)\n",
    "    #CVX_runtime_list.append(r_cvx)\n",
    "    FAP_runtime_list.append(r_fap)\n",
    "    #CVX_error_list.append(error_cvx)\n",
    "    FAP_error_list.append(error_fap)\n",
    "    "
   ]
  },
  {
   "cell_type": "code",
   "execution_count": 11,
   "metadata": {},
   "outputs": [
    {
     "name": "stdout",
     "output_type": "stream",
     "text": [
      "[75.67997700000001, 92.75374099999999, 113.883759, 136.345012]\n"
     ]
    }
   ],
   "source": [
    "print(FAP_runtime_list)"
   ]
  },
  {
   "cell_type": "code",
   "execution_count": 12,
   "metadata": {},
   "outputs": [
    {
     "name": "stdout",
     "output_type": "stream",
     "text": [
      "[28.613172003701862, 38.06854284054719, 48.48719034778165, 53.89053766258899]\n"
     ]
    }
   ],
   "source": [
    "print(FAP_error_list)"
   ]
  },
  {
   "cell_type": "markdown",
   "metadata": {},
   "source": [
    "## If there is a isomorphism, then we have Pcvx = Pfap\n",
    "    "
   ]
  },
  {
   "cell_type": "code",
   "execution_count": 13,
   "metadata": {},
   "outputs": [
    {
     "data": {
      "text/plain": [
       "<matplotlib.legend.Legend at 0x120bbbca0>"
      ]
     },
     "execution_count": 13,
     "metadata": {},
     "output_type": "execute_result"
    },
    {
     "data": {
      "image/png": "[encoded data removed]",
      "text/plain": [
       "<Figure size 432x288 with 1 Axes>"
      ]
     },
     "metadata": {
      "needs_background": "light"
     },
     "output_type": "display_data"
    }
   ],
   "source": [
    "#plt.plot(N, CVX_runtime_list,label=\"Initialization = D_cvx\")\n",
    "plt.plot(N, FAP_runtime_list, label=\"D_fap\")\n",
    "plt.xlabel(r'$n$')\n",
    "plt.ylabel('Runtime')\n",
    "plt.grid()\n",
    "plt.legend()\n",
    "#plt.show()\n",
    "#plt.close()\n",
    "#plt.savefig('Projection_fap_for_large_n.eps', dpi=500)"
   ]
  },
  {
   "cell_type": "code",
   "execution_count": 14,
   "metadata": {},
   "outputs": [],
   "source": [
    "# plt.plot(N, CVX_error_list,label=\"Initialization = D_cvx\")\n",
    "# plt.plot(N, FAP_error_list, label=\"Initialization = D_fap\")\n",
    "# plt.xlabel(r'$n$')\n",
    "# plt.ylabel('Error')\n",
    "# plt.grid()\n",
    "# plt.legend()\n",
    "# #plt.show()\n",
    "# #plt.close()\n",
    "# plt.savefig('Projection (error) with different n (n large).eps', dpi=500)"
   ]
  },
  {
   "cell_type": "code",
   "execution_count": null,
   "metadata": {},
   "outputs": [],
   "source": []
  },
  {
   "cell_type": "code",
   "execution_count": null,
   "metadata": {},
   "outputs": [],
   "source": []
  },
  {
   "cell_type": "code",
   "execution_count": null,
   "metadata": {},
   "outputs": [],
   "source": []
  },
  {
   "cell_type": "code",
   "execution_count": null,
   "metadata": {},
   "outputs": [],
   "source": []
  },
  {
   "cell_type": "code",
   "execution_count": null,
   "metadata": {},
   "outputs": [],
   "source": []
  },
  {
   "cell_type": "code",
   "execution_count": null,
   "metadata": {},
   "outputs": [],
   "source": []
  }
 ],
 "metadata": {
  "kernelspec": {
   "display_name": "Python 3",
   "language": "python",
   "name": "python3"
  },
  "language_info": {
   "codemirror_mode": {
    "name": "ipython",
    "version": 3
   },
   "file_extension": ".py",
   "mimetype": "text/x-python",
   "name": "python",
   "nbconvert_exporter": "python",
   "pygments_lexer": "ipython3",
   "version": "3.8.3"
  }
 },
 "nbformat": 4,
 "nbformat_minor": 4
}
