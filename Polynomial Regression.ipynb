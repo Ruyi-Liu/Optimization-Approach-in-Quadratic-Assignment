{
 "cells": [
  {
   "cell_type": "code",
   "execution_count": 1,
   "metadata": {},
   "outputs": [],
   "source": [
    "from sklearn.preprocessing import PolynomialFeatures\n",
    "import numpy as np\n",
    "from sklearn.linear_model import LinearRegression\n",
    "import statsmodels.api as sm\n",
    "import numpy as np\n",
    "import networkx as nx\n",
    "import matplotlib.pyplot as plt\n",
    "import random\n",
    "import cvxpy as cp\n",
    "from numpy import linalg as LA\n",
    "import pprint\n",
    "from lap import lapjv\n",
    "import copy\n",
    "import sys\n",
    "import datetime\n",
    "from tqdm import tqdm_notebook\n"
   ]
  },
  {
   "cell_type": "code",
   "execution_count": 11,
   "metadata": {},
   "outputs": [
    {
     "name": "stderr",
     "output_type": "stream",
     "text": [
      "The PostScript backend does not support transparency; partially transparent artists will be rendered opaque.\n",
      "The PostScript backend does not support transparency; partially transparent artists will be rendered opaque.\n"
     ]
    },
    {
     "name": "stdout",
     "output_type": "stream",
     "text": [
      "12 21\n"
     ]
    },
    {
     "data": {
      "image/png": "[encoded data removed]",
      "text/plain": [
       "<Figure size 432x288 with 1 Axes>"
      ]
     },
     "metadata": {
      "needs_background": "light"
     },
     "output_type": "display_data"
    }
   ],
   "source": [
    "\n",
    "\n",
    "N_cvx = [22,26,30,34,38,42,46,50,54,58,62,66]\n",
    "N_fap = [22,26,30,34,38,42,46,50,54,58,62,66,70,74,78,82,86,90,94,98,102]\n",
    "T_cvx = np.array([1.0869466666666667, 2.8500499999999995, \n",
    "     6.259753333333333, 22.017576333333334, 38.057083, 96.23817766666667, \n",
    "     170.55357266666667, 164.00927433333334, 321.60398733333335, \n",
    "     541.8176083333333, 856.9522489999999, 1534.0338190000002])\n",
    "\n",
    "T_fap=np.array([15.652568666666667,16.822545,18.634542333333332,\n",
    "       20.020403333333334,22.141449666666663,24.762104333333337,27.67350833333333,\n",
    "       30.834590666666667,34.374946666666666,\n",
    "       72.79604066666667,57.39722233333333,46.631722,56.309753,\n",
    "                72.42254700000001, 75.67997700000001,87.284467,\n",
    "                92.75374099999999,\n",
    "                113.883759,\n",
    "                114.238289, \n",
    "                136.345012,\n",
    "                154.0935195])\n",
    "\n",
    "print(len(T_cvx),len(T_fap))\n",
    "\n",
    "plt.scatter(N_cvx,T_cvx,label='cvx')\n",
    "plt.scatter(N_fap,T_fap,label='fap')\n",
    "plt.xlabel(r'$n$')\n",
    "plt.ylabel('Runtime')\n",
    "plt.legend(loc = 'best')\n",
    "plt.savefig('Scatter Plot (n vs runtime).eps', dpi=500)\n",
    "\n",
    "N_cvx = np.array(N_cvx).reshape((-1, 1))\n",
    "N_fap = np.array(N_fap).reshape((-1, 1))\n"
   ]
  },
  {
   "cell_type": "code",
   "execution_count": 12,
   "metadata": {},
   "outputs": [],
   "source": [
    "N_cvx = np.log(N_cvx)\n",
    "N_fap = np.log(N_fap)"
   ]
  },
  {
   "cell_type": "markdown",
   "metadata": {},
   "source": [
    "$Cn^k = t$  \n",
    "$log(t) = klog(n) + log(C)$"
   ]
  },
  {
   "cell_type": "code",
   "execution_count": 13,
   "metadata": {},
   "outputs": [
    {
     "name": "stdout",
     "output_type": "stream",
     "text": [
      "log(C):  -2.464158836659957\n",
      "k_fap:  [1.56967873]\n"
     ]
    }
   ],
   "source": [
    "\n",
    "T_fap = np.log(T_fap)\n",
    "\n",
    "model_fap = LinearRegression()\n",
    "model_fap = model_fap.fit(N_fap,T_fap)\n",
    "#print(model)\n",
    "#r_sq = model.score(N,T_fap)\n",
    "print('log(C): ', model_fap.intercept_)\n",
    "print('k_fap: ', model_fap.coef_)\n",
    "\n"
   ]
  },
  {
   "cell_type": "code",
   "execution_count": 14,
   "metadata": {},
   "outputs": [
    {
     "name": "stdout",
     "output_type": "stream",
     "text": [
      "log(C):  -20.119295165598633\n",
      "k_cvx:  [6.52587179]\n"
     ]
    }
   ],
   "source": [
    "T_cvx = np.log(T_cvx)\n",
    "model_cvx = LinearRegression()\n",
    "model_cvx = model_cvx.fit(N_cvx,T_cvx)\n",
    "#print(model)\n",
    "print('log(C): ', model_cvx.intercept_)\n",
    "print('k_cvx: ', model_cvx.coef_)\n",
    "\n"
   ]
  },
  {
   "cell_type": "code",
   "execution_count": 16,
   "metadata": {},
   "outputs": [
    {
     "name": "stderr",
     "output_type": "stream",
     "text": [
      "The PostScript backend does not support transparency; partially transparent artists will be rendered opaque.\n",
      "The PostScript backend does not support transparency; partially transparent artists will be rendered opaque.\n"
     ]
    },
    {
     "data": {
      "image/png": "[encoded data removed]",
      "text/plain": [
       "<Figure size 432x288 with 1 Axes>"
      ]
     },
     "metadata": {
      "needs_background": "light"
     },
     "output_type": "display_data"
    }
   ],
   "source": [
    "# Predicted model\n",
    "z_fap = np.arange(5).reshape((-1, 1))\n",
    "y_fap = model_fap.predict(z_fap)\n",
    "\n",
    "z_cvx = np.arange(5).reshape((-1, 1))\n",
    "y_cvx = model_cvx.predict(z_cvx)\n",
    "\n",
    "\n",
    "plt.plot(np.exp(z_cvx),np.exp(y_cvx),label='CVX Polynomial')\n",
    "plt.plot(np.exp(z_fap),np.exp(y_fap),label='FAP Polynomial')\n",
    "plt.xlabel(r'$n$')\n",
    "plt.ylabel('Runtime')\n",
    "plt.legend(loc = 'best')\n",
    "plt.savefig('Polynomial Plot (n vs runtime).eps', dpi=500)\n"
   ]
  },
  {
   "cell_type": "code",
   "execution_count": null,
   "metadata": {},
   "outputs": [],
   "source": []
  },
  {
   "cell_type": "code",
   "execution_count": null,
   "metadata": {},
   "outputs": [],
   "source": []
  },
  {
   "cell_type": "code",
   "execution_count": null,
   "metadata": {},
   "outputs": [],
   "source": []
  }
 ],
 "metadata": {
  "kernelspec": {
   "display_name": "Python 3",
   "language": "python",
   "name": "python3"
  },
  "language_info": {
   "codemirror_mode": {
    "name": "ipython",
    "version": 3
   },
   "file_extension": ".py",
   "mimetype": "text/x-python",
   "name": "python",
   "nbconvert_exporter": "python",
   "pygments_lexer": "ipython3",
   "version": "3.8.3"
  }
 },
 "nbformat": 4,
 "nbformat_minor": 4
}
