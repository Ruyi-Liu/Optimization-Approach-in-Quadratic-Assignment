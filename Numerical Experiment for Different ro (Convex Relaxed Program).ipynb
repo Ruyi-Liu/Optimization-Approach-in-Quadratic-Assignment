{
 "cells": [
  {
   "cell_type": "code",
   "execution_count": 1,
   "metadata": {},
   "outputs": [],
   "source": [
    "import numpy as np\n",
    "import networkx as nx\n",
    "import matplotlib.pyplot as plt\n",
    "import random\n",
    "import cvxpy as cp\n",
    "from numpy import linalg as LA\n",
    "import pprint\n",
    "from lap import lapjv\n",
    "import copy\n",
    "from tqdm import tqdm_notebook\n",
    "from matplotlib import pyplot as plt\n",
    "import datetime\n",
    "from tqdm import tqdm_notebook\n",
    "\n",
    "\n",
    "ro = np.linspace(0,1,40)\n",
    "alpha = 0.4\n",
    "n = 30\n",
    "# number of iteration for the same ro\n",
    "k = 10\n",
    "\n",
    "\n",
    "\n",
    "\n"
   ]
  },
  {
   "cell_type": "code",
   "execution_count": 2,
   "metadata": {},
   "outputs": [],
   "source": []
  },
  {
   "cell_type": "code",
   "execution_count": null,
   "metadata": {},
   "outputs": [],
   "source": []
  },
  {
   "cell_type": "code",
   "execution_count": 3,
   "metadata": {},
   "outputs": [],
   "source": [
    "# Generate A\n",
    "def A_adj(alpha,n):\n",
    "    A=np.identity(n)\n",
    "    P=np.ones([n,n]) \n",
    "    #print(P)\n",
    "    A= P-A\n",
    "    for i in range(n):\n",
    "        for j in range(i+1,n):\n",
    "            A[i][j] =random.uniform(0,1)\n",
    "            if A[i][j] < alpha:\n",
    "                A[i][j] = 1\n",
    "            else:\n",
    "                A[i][j] = 0\n",
    "            A[j][i] = A[i][j]\n",
    "    return A\n",
    "\n",
    "# Generate B\n",
    "def B_adj(ro,alpha,A):\n",
    "    B = np.zeros([len(A),len(A)])\n",
    "    for i in range(len(B)):\n",
    "        for j in range(i+1,len(B)):\n",
    "            B[i][j] =random.uniform(0,1)\n",
    "            if B[i][j] < (1-ro)*alpha + ro*A[i][j]:\n",
    "                B[i][j] = 1\n",
    "            else:\n",
    "                B[i][j] = 0\n",
    "            B[j][i] = B[i][j]\n",
    "    return B\n",
    "    \n",
    "\n",
    "                \n",
    "            \n",
    "                \n",
    "            "
   ]
  },
  {
   "cell_type": "code",
   "execution_count": 4,
   "metadata": {},
   "outputs": [],
   "source": [
    "#Construct a n-degree permutation matrix \n",
    "\n",
    "def permu(N):\n",
    "    E=np.identity(N)\n",
    "    permutation = np.random.permutation(N)\n",
    "    P=np.zeros([N,N]) #initialize the permutation matrix\n",
    "     \n",
    "    for i in range(0,N):\n",
    "        P[i]=E[permutation[i]]\n",
    "    \n",
    "    \n",
    "    return P.astype(int)"
   ]
  },
  {
   "cell_type": "code",
   "execution_count": 5,
   "metadata": {},
   "outputs": [],
   "source": [
    "def ret_permu_result(l,n):\n",
    "    ret = np.zeros((n, n))\n",
    "    for i in range(n):\n",
    "        ret[i][l[i]] = 1\n",
    "    #print(ret)\n",
    "    return ret"
   ]
  },
  {
   "cell_type": "code",
   "execution_count": 8,
   "metadata": {},
   "outputs": [],
   "source": [
    "\n",
    "\n",
    "def A_B_convex_relaxation_LAP(ro,alpha,n,k):\n",
    "    sum_align = 0\n",
    "    for i in range(k):\n",
    "        P_1 = np.identity(n)\n",
    "        A = A_adj(alpha,n)\n",
    "        B_ori = B_adj(ro,alpha,A)\n",
    "        B = np.matmul(P_1, np.matmul(B_ori,P_1.T))\n",
    "        \n",
    "\n",
    "        # Define and solve the CVXPY problem.\n",
    "        P = cp.Variable((n,n))\n",
    "        arr = cp.expressions.constants.Constant([[1 for i in range(n)]])\n",
    "        constraints = [P.__matmul__(arr) == arr, P.T.__matmul__(arr) == arr, cp.min(P)>=0]\n",
    "        prob = cp.Problem(cp.Minimize((cp.norm(P.__matmul__(A)-(P.T.__matmul__(B.T)).T, 'fro'))**2), constraints)\n",
    "        # prob = cp.Problem(cp.Minimize(LA.norm(np.multiply(P,A)-np.matmul(B,P), 'fro')), constraints)\n",
    "        prob.solve()\n",
    "\n",
    "        #Print result for step 1\n",
    "        #print(\"Loss is\", prob.value)\n",
    "        #print(\"The optimal P is\")\n",
    "        P_step_1 = copy.deepcopy(P.value)\n",
    "        for i in range(len(P_step_1)):\n",
    "            for j in range(len(P_step_1)):\n",
    "                P_step_1[i][j] = round(P_step_1[i][j],2)\n",
    "\n",
    "        #print(P_step_1)\n",
    "\n",
    "        # LAP\n",
    "        P_dsm = P.value\n",
    "        x,y,c = lapjv(-P_dsm)\n",
    "        index_list = y\n",
    "        #print(index_list)\n",
    "        P_r = ret_permu_result(index_list,n)\n",
    "        \n",
    "        align_percent = (np.trace(P_1.T @ P_r))/n\n",
    "        #print(align_percent)\n",
    "        sum_align += align_percent\n",
    "        #print(sum_align)\n",
    "    \n",
    "    avg_align = sum_align / k\n",
    "    #print(avg_align)\n",
    "    return avg_align\n",
    "    \n",
    "        \n"
   ]
  },
  {
   "cell_type": "code",
   "execution_count": null,
   "metadata": {},
   "outputs": [],
   "source": []
  },
  {
   "cell_type": "code",
   "execution_count": 9,
   "metadata": {},
   "outputs": [
    {
     "name": "stderr",
     "output_type": "stream",
     "text": [
      "<ipython-input-9-d944d2d55d13>:4: TqdmDeprecationWarning: This function will be removed in tqdm==5.0.0\n",
      "Please use `tqdm.notebook.tqdm` instead of `tqdm.tqdm_notebook`\n",
      "  for i in tqdm_notebook(range(len(ro))):\n"
     ]
    },
    {
     "data": {
      "application/vnd.jupyter.widget-view+json": {
       "model_id": "d026295728004c45bfb0eff3ef6320f3",
       "version_major": 2,
       "version_minor": 0
      },
      "text/plain": [
       "HBox(children=(FloatProgress(value=0.0, max=40.0), HTML(value='')))"
      ]
     },
     "metadata": {},
     "output_type": "display_data"
    },
    {
     "name": "stdout",
     "output_type": "stream",
     "text": [
      "0.026666666666666665\n",
      "0.023333333333333334\n",
      "0.019999999999999997\n",
      "0.03\n",
      "0.03666666666666667\n",
      "0.03\n",
      "0.03\n",
      "0.039999999999999994\n",
      "0.04666666666666666\n",
      "0.026666666666666665\n",
      "0.03666666666666667\n",
      "0.03\n",
      "0.05333333333333333\n",
      "0.039999999999999994\n",
      "0.07333333333333333\n",
      "0.06333333333333332\n",
      "0.05333333333333333\n",
      "0.06666666666666667\n",
      "0.05\n",
      "0.039999999999999994\n",
      "0.07999999999999999\n",
      "0.10666666666666666\n",
      "0.09333333333333334\n",
      "0.06666666666666667\n",
      "0.13666666666666666\n",
      "0.12666666666666665\n",
      "0.10999999999999999\n",
      "0.22666666666666666\n",
      "0.22666666666666666\n",
      "0.3266666666666667\n",
      "0.5799999999999998\n",
      "0.44333333333333325\n",
      "0.65\n",
      "0.7866666666666666\n",
      "0.8699999999999999\n",
      "0.9366666666666668\n",
      "1.0\n",
      "1.0\n",
      "1.0\n",
      "1.0\n",
      "\n"
     ]
    }
   ],
   "source": [
    "starttime = datetime.datetime.now()\n",
    "\n",
    "aligned_percent_list = []\n",
    "for i in tqdm_notebook(range(len(ro))):\n",
    "    \n",
    "    r = A_B_convex_relaxation_LAP(ro[i],alpha,n,k)\n",
    "    print(r)\n",
    "    aligned_percent_list.append(r)\n",
    "\n"
   ]
  },
  {
   "cell_type": "code",
   "execution_count": 10,
   "metadata": {},
   "outputs": [
    {
     "name": "stdout",
     "output_type": "stream",
     "text": [
      "0:32:55.290279\n"
     ]
    }
   ],
   "source": [
    "endtime = datetime.datetime.now()\n",
    "print (endtime - starttime)"
   ]
  },
  {
   "cell_type": "code",
   "execution_count": 11,
   "metadata": {},
   "outputs": [
    {
     "name": "stdout",
     "output_type": "stream",
     "text": [
      "[0.026666666666666665, 0.023333333333333334, 0.019999999999999997, 0.03, 0.03666666666666667, 0.03, 0.03, 0.039999999999999994, 0.04666666666666666, 0.026666666666666665, 0.03666666666666667, 0.03, 0.05333333333333333, 0.039999999999999994, 0.07333333333333333, 0.06333333333333332, 0.05333333333333333, 0.06666666666666667, 0.05, 0.039999999999999994, 0.07999999999999999, 0.10666666666666666, 0.09333333333333334, 0.06666666666666667, 0.13666666666666666, 0.12666666666666665, 0.10999999999999999, 0.22666666666666666, 0.22666666666666666, 0.3266666666666667, 0.5799999999999998, 0.44333333333333325, 0.65, 0.7866666666666666, 0.8699999999999999, 0.9366666666666668, 1.0, 1.0, 1.0, 1.0]\n"
     ]
    }
   ],
   "source": [
    "print(aligned_percent_list)"
   ]
  },
  {
   "cell_type": "code",
   "execution_count": 12,
   "metadata": {},
   "outputs": [
    {
     "data": {
      "image/png": "[encoded data removed]",
      "text/plain": [
       "<Figure size 432x288 with 1 Axes>"
      ]
     },
     "metadata": {
      "needs_background": "light"
     },
     "output_type": "display_data"
    }
   ],
   "source": [
    "\n",
    "plt.plot(ro, aligned_percent_list)\n",
    "plt.xlabel(r'$\\rho$')\n",
    "plt.ylabel('Aligned Percent')\n",
    "plt.grid()\n",
    "plt.savefig('Aligned Percent.eps', dpi=500)"
   ]
  },
  {
   "cell_type": "code",
   "execution_count": null,
   "metadata": {},
   "outputs": [],
   "source": []
  },
  {
   "cell_type": "code",
   "execution_count": null,
   "metadata": {},
   "outputs": [],
   "source": [
    "\n",
    "    "
   ]
  },
  {
   "cell_type": "code",
   "execution_count": null,
   "metadata": {},
   "outputs": [],
   "source": []
  },
  {
   "cell_type": "code",
   "execution_count": null,
   "metadata": {},
   "outputs": [],
   "source": []
  }
 ],
 "metadata": {
  "kernelspec": {
   "display_name": "Python 3",
   "language": "python",
   "name": "python3"
  },
  "language_info": {
   "codemirror_mode": {
    "name": "ipython",
    "version": 3
   },
   "file_extension": ".py",
   "mimetype": "text/x-python",
   "name": "python",
   "nbconvert_exporter": "python",
   "pygments_lexer": "ipython3",
   "version": "3.8.3"
  }
 },
 "nbformat": 4,
 "nbformat_minor": 4
}
