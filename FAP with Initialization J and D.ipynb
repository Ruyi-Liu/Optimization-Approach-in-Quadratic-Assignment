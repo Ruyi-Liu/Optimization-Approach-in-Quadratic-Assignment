{
 "cells": [
  {
   "cell_type": "code",
   "execution_count": 1,
   "metadata": {},
   "outputs": [
    {
     "name": "stdout",
     "output_type": "stream",
     "text": [
      "3000\n"
     ]
    }
   ],
   "source": [
    "import numpy as np\n",
    "import networkx as nx\n",
    "import matplotlib.pyplot as plt\n",
    "import random\n",
    "import cvxpy as cp\n",
    "from numpy import linalg as LA\n",
    "import pprint\n",
    "from lap import lapjv\n",
    "import copy\n",
    "import sys\n",
    "import datetime\n",
    "from tqdm import tqdm_notebook\n",
    "\n",
    "print(sys.getrecursionlimit())\n",
    "sys.setrecursionlimit(20000)\n",
    "\n",
    "ro = np.linspace(0,1,25)\n",
    "n = 35\n",
    "k = 5\n",
    "\n",
    "a = 0.2\n",
    " \n",
    "num_loop = 5000\n"
   ]
  },
  {
   "cell_type": "code",
   "execution_count": 2,
   "metadata": {},
   "outputs": [],
   "source": [
    "# Construct K\n",
    "def K_Bernoulli(n,a):\n",
    "    np.random.seed(3)\n",
    "    K=np.identity(n)\n",
    "    P=np.ones([n,n]) \n",
    "    K = P-K\n",
    "    #print(K)\n",
    "    for i in range(n):\n",
    "        for j in range(i+1,n):\n",
    "            K[i][j] = round(random.uniform(a,1-a),2)\n",
    "            #K[i][j] = random.uniform(alpha,1-alpha)\n",
    "            K[j][i]=K[i][j]        \n",
    "    return K\n",
    "     \n",
    "\n",
    "# Generate A\n",
    "def A_adj(K):\n",
    "    n = len(K)\n",
    "    B=np.identity(len(K))\n",
    "    P=np.ones([n,n]) \n",
    "    #print(P)\n",
    "    B= P-B\n",
    "    #print(B)\n",
    "    for i in range(len(B)):\n",
    "        for j in range(i+1,len(B)):\n",
    "            B[i][j] =random.uniform(0,1)\n",
    "            if B[i][j] < K[i][j]:\n",
    "                B[i][j] = 1\n",
    "            else:\n",
    "                B[i][j] = 0\n",
    "            B[j][i] = B[i][j]\n",
    "    A = B\n",
    "    return A\n",
    "\n",
    "# Generate B\n",
    "def B_adj(ro,K,A):\n",
    "    B = np.zeros([len(A),len(A)])\n",
    "    for i in range(len(B)):\n",
    "        for j in range(i+1,len(B)):\n",
    "            B[i][j] =random.uniform(0,1)\n",
    "            if B[i][j] < (1-ro)*K[i][j] + ro*A[i][j]:\n",
    "                B[i][j] = 1\n",
    "            else:\n",
    "                B[i][j] = 0\n",
    "            B[j][i] = B[i][j]\n",
    "    return B\n",
    "    \n",
    "    \n",
    "                \n",
    "            \n",
    "                \n",
    "            \n"
   ]
  },
  {
   "cell_type": "code",
   "execution_count": null,
   "metadata": {},
   "outputs": [],
   "source": []
  },
  {
   "cell_type": "code",
   "execution_count": 3,
   "metadata": {},
   "outputs": [],
   "source": [
    "#Construct a n-degree permutation matrix \n",
    "\n",
    "def permu(N):\n",
    "    E=np.identity(N)\n",
    "    permutation = np.random.permutation(N)\n",
    "    P=np.zeros([N,N]) #initialize the permutation matrix\n",
    "     \n",
    "    for i in range(0,N):\n",
    "        P[i]=E[permutation[i]]\n",
    "    \n",
    "    \n",
    "    return P.astype(int)\n"
   ]
  },
  {
   "cell_type": "code",
   "execution_count": 4,
   "metadata": {},
   "outputs": [],
   "source": [
    "# Generate a random aj matrix for unweighted and undirected graph\n",
    "def generate_aj_matrix(n):\n",
    "    id = np.identity(n)\n",
    "    ones_mat=np.ones((n, n)) \n",
    "    arr = ones_mat - id\n",
    "    #print(arr)\n",
    "    for i in range(n):\n",
    "        for j in range(i+1,n):\n",
    "            arr[i][j] = random.choice([0,1])\n",
    "            arr[j][i] = arr[i][j]\n",
    "    return arr"
   ]
  },
  {
   "cell_type": "code",
   "execution_count": null,
   "metadata": {},
   "outputs": [],
   "source": []
  },
  {
   "cell_type": "code",
   "execution_count": null,
   "metadata": {},
   "outputs": [],
   "source": []
  },
  {
   "cell_type": "code",
   "execution_count": 5,
   "metadata": {},
   "outputs": [],
   "source": [
    "def ret_permu_result(l,n):\n",
    "    ret = np.zeros((n, n))\n",
    "    for i in range(n):\n",
    "        ret[i][l[i]] = 1\n",
    "    #print(ret)\n",
    "    return ret"
   ]
  },
  {
   "cell_type": "code",
   "execution_count": 6,
   "metadata": {},
   "outputs": [],
   "source": [
    "\n",
    "\n",
    "one_arr = np.ones((n, 1))\n",
    "initial = one_arr@one_arr.T / n\n",
    "\n"
   ]
  },
  {
   "cell_type": "code",
   "execution_count": 7,
   "metadata": {},
   "outputs": [],
   "source": [
    "def f_for_step_3(A,B,P):\n",
    "    return -np.trace(A@P@B.T@P.T)"
   ]
  },
  {
   "cell_type": "code",
   "execution_count": 8,
   "metadata": {},
   "outputs": [],
   "source": [
    "def get_alpha_value(A,B,P,Q):\n",
    "    alpha = 0\n",
    "    a = -np.trace(A@P@B.T@P.T-A@P@B.T@Q.T-A@Q@B.T@P.T+A@Q@B.T@Q.T)\n",
    "    b  = np.trace(2*(A@P@B.T@P.T)-A@P@B.T@Q.T-A@Q@B.T@P.T)\n",
    "    x_extreme = -b/(2*a)\n",
    "    dic = dict()\n",
    "    dic[0] = f_for_step_3(A,B,P)\n",
    "    dic[1]=f_for_step_3(A,B,Q)\n",
    "    dic[x_extreme] = f_for_step_3(A,B,(1-x_extreme)*P+x_extreme*Q)\n",
    "    \n",
    "    #print(dic)\n",
    "    if (x_extreme < 1) and (x_extreme>0):    \n",
    "        Min = dic[0]\n",
    "        key = 0\n",
    "        for k, v in dic.items():\n",
    "            if v < Min:\n",
    "                #print(key, Min)\n",
    "                #print(k,v)\n",
    "                #print(v < Min)\n",
    "                key = k\n",
    "                Min = v\n",
    "        #print(key)\n",
    "        return key\n",
    "    else:\n",
    "        \n",
    "        Min = dic[0]\n",
    "        if dic[1]<Min:\n",
    "            Min = dic[1]\n",
    "            #print(1)\n",
    "            return 1\n",
    "        #print(0)\n",
    "        return 0 \n",
    "        \n",
    "\n",
    "    "
   ]
  },
  {
   "cell_type": "code",
   "execution_count": 9,
   "metadata": {},
   "outputs": [],
   "source": [
    "def loss_P_1_percent(P_D_r,P_1):\n",
    "    loss = 0\n",
    "    for i in (P_D_r==P_1):\n",
    "        for j in i:\n",
    "            if j == False:\n",
    "                loss +=1\n",
    "    loss = loss/2\n",
    "    loss_percent = loss/n\n",
    "    return loss_percent"
   ]
  },
  {
   "cell_type": "code",
   "execution_count": 10,
   "metadata": {},
   "outputs": [],
   "source": [
    "def FAQ(n,A,B,initial,eps,loop,num_loop):\n",
    "    loop += 1\n",
    "    # Compute gradient\n",
    "    gradient = -A@initial@B.T - A.T@initial@B\n",
    "    \n",
    "    x,y,c = lapjv(gradient)\n",
    "    index_list = y\n",
    "    Q = ret_permu_result(index_list,n)\n",
    "    \n",
    "    \n",
    "    # Update P\n",
    "    alpha = get_alpha_value(A,B,initial,Q)\n",
    "    #print(alpha)\n",
    "    P_new = (1-alpha)*initial + alpha*Q\n",
    "    #P_new = initial + alpha*Q\n",
    "    \n",
    "    \n",
    "    if loop>num_loop:\n",
    "        # Projection\n",
    "        e,r,t = lapjv(-P_new.T)\n",
    "        #print(r)\n",
    "        P_result = ret_permu_result(r,n).T\n",
    "        return P_result\n",
    "\n",
    "    if LA.norm(P_new-initial, 'fro') < eps:\n",
    "        # Projection\n",
    "        e,r,t = lapjv(-P_new.T)\n",
    "        #print(r)\n",
    "        P_result = ret_permu_result(r,n).T\n",
    "        #print(\"norm close\\n\",P_result)\n",
    "        return P_result\n",
    "    else:\n",
    "        return FAQ(n,A,B,P_new,eps,loop,num_loop) \n",
    "    #print(P_new)"
   ]
  },
  {
   "cell_type": "code",
   "execution_count": null,
   "metadata": {},
   "outputs": [],
   "source": []
  },
  {
   "cell_type": "code",
   "execution_count": null,
   "metadata": {},
   "outputs": [],
   "source": []
  },
  {
   "cell_type": "code",
   "execution_count": 11,
   "metadata": {},
   "outputs": [],
   "source": [
    "\n",
    "def initialization_J(A,B,n,initial,num_loop):\n",
    "    P_1 = np.identity(n)\n",
    "    P_r = FAQ(n,A,B,initial,10**(-9),0,num_loop)\n",
    "    loss = 0\n",
    "    for i in (P_r==P_1):\n",
    "        for j in i:\n",
    "            if j == False:\n",
    "                loss +=1\n",
    "    loss = loss/2\n",
    "    loss_percent = loss/n\n",
    "    align_percent = 1- loss_percent\n",
    "    \n",
    "    return align_percent\n",
    "\n"
   ]
  },
  {
   "cell_type": "code",
   "execution_count": null,
   "metadata": {},
   "outputs": [],
   "source": []
  },
  {
   "cell_type": "code",
   "execution_count": null,
   "metadata": {},
   "outputs": [],
   "source": []
  },
  {
   "cell_type": "code",
   "execution_count": null,
   "metadata": {},
   "outputs": [],
   "source": []
  },
  {
   "cell_type": "code",
   "execution_count": 12,
   "metadata": {},
   "outputs": [],
   "source": [
    "\n",
    "\n",
    "def initialization_D(A,B,n,num_loop):\n",
    "    # check if the same as cvxpy\n",
    "    # Define and solve the CVXPY problem.\n",
    "    P_1 = np.identity(n)\n",
    "    P = cp.Variable((n,n))\n",
    "    arr = cp.expressions.constants.Constant([[1 for i in range(n)]])\n",
    "    constraints = [P.__matmul__(arr) == arr, P.T.__matmul__(arr) == arr, cp.min(P)>=0]\n",
    "    prob = cp.Problem(cp.Minimize((cp.norm(P.__matmul__(B)-(P.T.__matmul__(A.T)).T, 'fro'))**2), constraints)\n",
    "    # prob = cp.Problem(cp.Minimize(LA.norm(np.multiply(P,A)-np.matmul(B,P), 'fro')), constraints)\n",
    "    prob.solve()\n",
    "\n",
    "    initial_D = P.value\n",
    "    P_D_r = FAQ(n,A,B,initial_D,10**(-9),0,num_loop)\n",
    "    loss = 0\n",
    "    for i in (P_D_r==P_1):\n",
    "        for j in i:\n",
    "            if j == False:\n",
    "                loss +=1\n",
    "    loss = loss/2\n",
    "    loss_percent = loss/n\n",
    "    align_percent = 1- loss_percent\n",
    "    #print(loss_percent)\n",
    "    return align_percent\n"
   ]
  },
  {
   "cell_type": "code",
   "execution_count": null,
   "metadata": {},
   "outputs": [],
   "source": []
  },
  {
   "cell_type": "code",
   "execution_count": 13,
   "metadata": {},
   "outputs": [],
   "source": [
    "def J_D_comparison(ro,alpha,n,k,num_loop):\n",
    "    sum_align_J = 0\n",
    "    sum_align_D = 0\n",
    "    for i in range(k):\n",
    "        P_1 = np.identity(n)\n",
    "        K= K_Bernoulli(n,alpha)\n",
    "        A = A_adj(K)\n",
    "        B_ori = B_adj(ro,K,A)\n",
    "        B = np.matmul(P_1.T, np.matmul(B_ori,P_1))\n",
    "        sum_align_D +=initialization_D(A,B,n,num_loop)\n",
    "        sum_align_J +=initialization_J(A,B,n,initial,num_loop)\n",
    "    \n",
    "    avg_align_J = sum_align_J / k\n",
    "    avg_align_D = sum_align_D / k\n",
    "    #print(avg_align)\n",
    "    return avg_align_J, avg_align_D\n",
    "    \n",
    "        \n"
   ]
  },
  {
   "cell_type": "code",
   "execution_count": null,
   "metadata": {},
   "outputs": [],
   "source": []
  },
  {
   "cell_type": "code",
   "execution_count": 14,
   "metadata": {},
   "outputs": [
    {
     "name": "stderr",
     "output_type": "stream",
     "text": [
      "<ipython-input-14-6013648394cc>:4: TqdmDeprecationWarning: This function will be removed in tqdm==5.0.0\n",
      "Please use `tqdm.notebook.tqdm` instead of `tqdm.tqdm_notebook`\n",
      "  for i in tqdm_notebook(range(len(ro))):\n"
     ]
    },
    {
     "data": {
      "application/vnd.jupyter.widget-view+json": {
       "model_id": "17d7a74399aa4a3d837f52a5f23a5cea",
       "version_major": 2,
       "version_minor": 0
      },
      "text/plain": [
       "HBox(children=(FloatProgress(value=0.0, max=25.0), HTML(value='')))"
      ]
     },
     "metadata": {},
     "output_type": "display_data"
    },
    {
     "name": "stderr",
     "output_type": "stream",
     "text": [
      "<ipython-input-8-9c6fdf298a1d>:5: RuntimeWarning: divide by zero encountered in double_scalars\n",
      "  x_extreme = -b/(2*a)\n",
      "<ipython-input-8-9c6fdf298a1d>:9: RuntimeWarning: invalid value encountered in multiply\n",
      "  dic[x_extreme] = f_for_step_3(A,B,(1-x_extreme)*P+x_extreme*Q)\n",
      "<ipython-input-8-9c6fdf298a1d>:9: RuntimeWarning: invalid value encountered in add\n",
      "  dic[x_extreme] = f_for_step_3(A,B,(1-x_extreme)*P+x_extreme*Q)\n",
      "<ipython-input-8-9c6fdf298a1d>:5: RuntimeWarning: invalid value encountered in double_scalars\n",
      "  x_extreme = -b/(2*a)\n"
     ]
    },
    {
     "name": "stdout",
     "output_type": "stream",
     "text": [
      "0.017142857142857147 0.011428571428571432\n",
      "0.02857142857142858 0.02857142857142858\n",
      "0.034285714285714294 0.034285714285714294\n",
      "0.040000000000000015 0.040000000000000015\n",
      "0.034285714285714294 0.04571428571428571\n",
      "0.022857142857142864 0.034285714285714294\n",
      "0.04571428571428573 0.04571428571428573\n",
      "0.034285714285714294 0.04571428571428573\n",
      "0.034285714285714294 0.017142857142857147\n",
      "0.005714285714285716 0.04571428571428573\n",
      "0.10285714285714287 0.09714285714285717\n",
      "0.06285714285714288 0.05142857142857145\n",
      "0.034285714285714294 0.011428571428571432\n",
      "0.06857142857142859 0.09142857142857141\n",
      "0.08571428571428572 0.12000000000000002\n",
      "0.05142857142857145 0.21142857142857147\n",
      "0.10285714285714287 0.6857142857142857\n",
      "0.04571428571428573 0.49714285714285716\n",
      "0.08000000000000003 0.9428571428571428\n",
      "0.14285714285714285 1.0\n",
      "0.09142857142857146 1.0\n",
      "0.2628571428571429 1.0\n",
      "0.2514285714285715 1.0\n",
      "0.5542857142857143 1.0\n",
      "1.0 1.0\n",
      "\n"
     ]
    }
   ],
   "source": [
    "J_aligned_percent_list = []\n",
    "D_aligned_percent_list = []\n",
    "\n",
    "for i in tqdm_notebook(range(len(ro))):\n",
    "    \n",
    "    J_avg,D_avg = J_D_comparison(ro[i],a,n,k,num_loop)\n",
    "    print(J_avg,D_avg)\n",
    "    J_aligned_percent_list.append(J_avg)\n",
    "    D_aligned_percent_list.append(D_avg)\n",
    "    "
   ]
  },
  {
   "cell_type": "code",
   "execution_count": 15,
   "metadata": {},
   "outputs": [
    {
     "name": "stdout",
     "output_type": "stream",
     "text": [
      "[0.017142857142857147, 0.02857142857142858, 0.034285714285714294, 0.040000000000000015, 0.034285714285714294, 0.022857142857142864, 0.04571428571428573, 0.034285714285714294, 0.034285714285714294, 0.005714285714285716, 0.10285714285714287, 0.06285714285714288, 0.034285714285714294, 0.06857142857142859, 0.08571428571428572, 0.05142857142857145, 0.10285714285714287, 0.04571428571428573, 0.08000000000000003, 0.14285714285714285, 0.09142857142857146, 0.2628571428571429, 0.2514285714285715, 0.5542857142857143, 1.0]\n",
      "[0.011428571428571432, 0.02857142857142858, 0.034285714285714294, 0.040000000000000015, 0.04571428571428571, 0.034285714285714294, 0.04571428571428573, 0.04571428571428573, 0.017142857142857147, 0.04571428571428573, 0.09714285714285717, 0.05142857142857145, 0.011428571428571432, 0.09142857142857141, 0.12000000000000002, 0.21142857142857147, 0.6857142857142857, 0.49714285714285716, 0.9428571428571428, 1.0, 1.0, 1.0, 1.0, 1.0, 1.0]\n"
     ]
    }
   ],
   "source": [
    "print(J_aligned_percent_list)\n",
    "print(D_aligned_percent_list)"
   ]
  },
  {
   "cell_type": "code",
   "execution_count": null,
   "metadata": {},
   "outputs": [],
   "source": []
  },
  {
   "cell_type": "code",
   "execution_count": null,
   "metadata": {},
   "outputs": [],
   "source": []
  },
  {
   "cell_type": "code",
   "execution_count": 16,
   "metadata": {},
   "outputs": [
    {
     "name": "stderr",
     "output_type": "stream",
     "text": [
      "The PostScript backend does not support transparency; partially transparent artists will be rendered opaque.\n",
      "The PostScript backend does not support transparency; partially transparent artists will be rendered opaque.\n"
     ]
    },
    {
     "data": {
      "image/png": "[encoded data removed]",
      "text/plain": [
       "<Figure size 432x288 with 1 Axes>"
      ]
     },
     "metadata": {
      "needs_background": "light"
     },
     "output_type": "display_data"
    }
   ],
   "source": [
    "\n",
    "plt.plot(ro, J_aligned_percent_list,label=\"Initialization = J\")\n",
    "plt.plot(ro, D_aligned_percent_list, label=\"Initialization = D\")\n",
    "plt.xlabel(r'$\\rho$')\n",
    "plt.ylabel('Aligned Percent')\n",
    "plt.grid()\n",
    "plt.legend()\n",
    "#plt.show()\n",
    "#plt.close()\n",
    "plt.savefig('a = 0.2 n=50 trace_initialization_comparison.eps', dpi=500)"
   ]
  },
  {
   "cell_type": "code",
   "execution_count": null,
   "metadata": {},
   "outputs": [],
   "source": []
  },
  {
   "cell_type": "code",
   "execution_count": null,
   "metadata": {},
   "outputs": [],
   "source": []
  },
  {
   "cell_type": "code",
   "execution_count": null,
   "metadata": {},
   "outputs": [],
   "source": []
  },
  {
   "cell_type": "code",
   "execution_count": null,
   "metadata": {},
   "outputs": [],
   "source": []
  }
 ],
 "metadata": {
  "kernelspec": {
   "display_name": "Python 3",
   "language": "python",
   "name": "python3"
  },
  "language_info": {
   "codemirror_mode": {
    "name": "ipython",
    "version": 3
   },
   "file_extension": ".py",
   "mimetype": "text/x-python",
   "name": "python",
   "nbconvert_exporter": "python",
   "pygments_lexer": "ipython3",
   "version": "3.8.3"
  }
 },
 "nbformat": 4,
 "nbformat_minor": 4
}
